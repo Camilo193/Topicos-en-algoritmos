{
 "cells": [
  {
   "cell_type": "markdown",
   "metadata": {},
   "source": [
    "# Redes neuronales artificiales - Perceptrón\n",
    "\n",
    "El objetivo de la AI es el desarrollo de paradigmas o algoritmos que requieren máquinas para desempeñar tareas cognituvas, en las cuales actualmente los humanos son mejores. Una sistema de AI debe ser capaz de hacer tres cosas: 1) almacenar conocimiento, 2) aplicar el conocimiento almacenado para respover problemas, 3) adquirir nuevo conocimiento a través de la experiencia. Un sistema de AI tiene tres componentes principales: representación, razonamiento y aprendizaje. Las redes neuronales cumplen con los tres principios pero trabajan con paralelismo, no en forma serial como suelen trabajar los algoritmos de AI."
   ]
  },
  {
   "cell_type": "markdown",
   "metadata": {},
   "source": [
    "## Implementación\n",
    "\n",
    "La libraría que se utilizará para el desarrollo de los códigos se llama NeuroLab http://pythonhosted.org/neurolab/. Para la instalación se debe ejecutar el comando en el promp de Anaconda.\n",
    "\n",
    "$ pip install neurolab\n",
    "\n",
    "ó\n",
    "\n",
    "$ pip3 install neurolab\n",
    "\n",
    "## Construcción de un clasificador basado en un perceptron\n",
    "\n",
    "Un Perceptron es el componente básico de una ANN. Es un modelo de una ANN de una sola capa que toma las entradas, realiza cálculos sobre ellas y luego produce una salida. Utiliza una función lineal simple para tomar la decisión. Digamos que estamos tratando con un punto de datos de entrada  N−dimensional. Un Perceptron calcula la suma ponderada de esos  NN números y luego agrega una constante para producir la salida. La constante se llama sesgo (bias) de la neurona. Es notable observar que estos perceptrones simples se utilizan para diseñar redes neuronales profundas muy complejas. Veamos cómo construir un clasificador basado en Perceptron usando NeuroLab."
   ]
  },
  {
   "cell_type": "code",
   "execution_count": 2,
   "metadata": {
    "collapsed": true
   },
   "outputs": [],
   "source": [
    "#importamos las librerías necesarias\n",
    "import numpy as np\n",
    "import matplotlib.pyplot as plt\n",
    "import neurolab as nl"
   ]
  },
  {
   "cell_type": "code",
   "execution_count": 5,
   "metadata": {},
   "outputs": [
    {
     "name": "stdout",
     "output_type": "stream",
     "text": [
      "[0. 0. 0. 1. 1.]\n",
      "(5L, 1L)\n"
     ]
    }
   ],
   "source": [
    "#cargamos los datos del archivo. Consisten en dos características y una etiqueta separados por espacio\n",
    "datos = np.loadtxt('data_perceptron.txt')\n",
    "\n",
    "#los separamos en datos y etiquetas\n",
    "X = datos[:,:2]\n",
    "etiquetas = datos[:,2]\n",
    "print(etiquetas)\n",
    "#reordenamos las etiquetas para que queden en formato columna\n",
    "y = np.vstack(etiquetas)\n",
    "print(y.shape)"
   ]
  },
  {
   "cell_type": "code",
   "execution_count": 4,
   "metadata": {},
   "outputs": [
    {
     "data": {
      "image/png": "[encoded data removed]",
      "text/plain": [
       "<matplotlib.figure.Figure at 0x1f05edc0940>"
      ]
     },
     "metadata": {},
     "output_type": "display_data"
    }
   ],
   "source": [
    "#graficamos los datos de entrada\n",
    "plt.figure()\n",
    "plt.scatter(X[:,0],X[:,1])\n",
    "plt.xlabel('Dimension 1')\n",
    "plt.ylabel('Dimension 2')\n",
    "plt.title('Datos de entrada')\n",
    "plt.show()\n",
    "#definimos los valores máximos y mínimos que puede tomar cada dimensión\n",
    "dim1_min, dim1_max, dim2_min, dim2_max = 0,1,0,1\n",
    "#Dado que los datos están seprados en dos clases, solo necesitamos un bit\n",
    "#para representar la salida. Por tanto la capa de salida solo tendrá una neurona\n",
    "\n",
    "#Número de neuronas en la capa de salida\n",
    "num_output = y.shape[1]\n",
    "\n",
    "#tenemos un conjunto de datos de dos dimensiones, definimos un perceptron\n",
    "# con dos neuronas a la entrada y le asignamos una a cada dimensión\n",
    "dim1 = [dim1_min, dim1_max]\n",
    "dim2 = [dim2_min, dim2_max]\n",
    "perceptron = nl.net.newp([dim1,dim2], num_output)\n"
   ]
  },
  {
   "cell_type": "code",
   "execution_count": 5,
   "metadata": {},
   "outputs": [
    {
     "name": "stdout",
     "output_type": "stream",
     "text": [
      "The goal of learning is reached\n"
     ]
    },
    {
     "data": {
      "text/plain": [
       "array([[ 0.0408,  0.0231]])"
      ]
     },
     "execution_count": 5,
     "metadata": {},
     "output_type": "execute_result"
    }
   ],
   "source": [
    "#entrenamos el perceptron con el conjunto de entrenamiento \n",
    "# lr es la tasa de aprendizaje, e indica que tan rápico o que tan lento se actualizan los pasos\n",
    "#epochs indica el número de pasadas por todo el conjunto de entrenamiento\n",
    "progreso_error = perceptron.train(X, y, epochs=100, show=20, lr=0.03)\n",
    "perceptron.layers[0].np['w'] #con esta instrucción conocemos los pesos para la capa de entrada"
   ]
  },
  {
   "cell_type": "code",
   "execution_count": 6,
   "metadata": {},
   "outputs": [
    {
     "data": {
      "image/png": "[encoded data removed]",
      "text/plain": [
       "<matplotlib.figure.Figure at 0x1f05f346278>"
      ]
     },
     "metadata": {},
     "output_type": "display_data"
    }
   ],
   "source": [
    "#graficamos el progreso de entrenamiento usando la métrica del error\n",
    "plt.figure() \n",
    "plt.plot(progreso_error) \n",
    "plt.xlabel('Numero de epochs') \n",
    "plt.ylabel('Error de entrenamiento') \n",
    "plt.title('Progreso del error en el entrenamiento') \n",
    "plt.grid()\n",
    "plt.show()"
   ]
  },
  {
   "cell_type": "code",
   "execution_count": 7,
   "metadata": {},
   "outputs": [
    {
     "name": "stdout",
     "output_type": "stream",
     "text": [
      "El acierto de clasificación es:  100.0 %\n"
     ]
    }
   ],
   "source": [
    "#vamos a validar con el mismo conjunto de entrenamiento. Recuerda que la validación se hace normalmente con el conjunto de test\n",
    "y_pred = perceptron.sim(X)\n",
    "print('El acierto de clasificación es: ', (y==y_pred).sum()/len(y)*100, '%')"
   ]
  },
  {
   "cell_type": "code",
   "execution_count": 8,
   "metadata": {},
   "outputs": [
    {
     "name": "stdout",
     "output_type": "stream",
     "text": [
      "El acierto de clasificación es:  40.0 %\n"
     ]
    }
   ],
   "source": [
    "#si queremos modificar los pesos de las entradas, podemos utilizar la siguiente instrucción:\n",
    "perceptron.layers[0].np['w'] = [[0.8,1]] #para x1 el peso será 0.8, para x2 el peso será 1\n",
    "y_pred = perceptron.sim(X) #con esto validamos nuevamente la red pero con los pesos que nosotros fijamos\n",
    "print('El acierto de clasificación es: ', (y==y_pred).sum()/len(y)*100, '%')"
   ]
  },
  {
   "cell_type": "markdown",
   "metadata": {},
   "source": [
    "** Actividad 1**\n",
    "\n",
    "Determina los pesos de las dos entradas para un perceptrón que realice la operación AND y otro que realice la operación OR. Valida el resultado con el conjunto de datos de entrada. Luego entrena el perceptrón para que el mismo encuentre los pesos. Valida nuevamente los datos. ¿Qué puedes concluir?"
   ]
  },
  {
   "cell_type": "code",
   "execution_count": 9,
   "metadata": {},
   "outputs": [
    {
     "name": "stdout",
     "output_type": "stream",
     "text": [
      "[ 0.  0.  0.  1.]\n",
      "[[ 0.  0.]\n",
      " [ 0.  1.]\n",
      " [ 1.  0.]\n",
      " [ 1.  1.]]\n",
      "[[ 0.]\n",
      " [ 0.]\n",
      " [ 0.]\n",
      " [ 1.]]\n"
     ]
    },
    {
     "data": {
      "image/png": "[encoded data removed]",
      "text/plain": [
       "<matplotlib.figure.Figure at 0x1f05f5276d8>"
      ]
     },
     "metadata": {},
     "output_type": "display_data"
    },
    {
     "name": "stdout",
     "output_type": "stream",
     "text": [
      "The goal of learning is reached\n"
     ]
    },
    {
     "data": {
      "image/png": "[encoded data removed]",
      "text/plain": [
       "<matplotlib.figure.Figure at 0x1f05f544748>"
      ]
     },
     "metadata": {},
     "output_type": "display_data"
    },
    {
     "name": "stdout",
     "output_type": "stream",
     "text": [
      "El acierto de clasificación es:  75.0 %\n"
     ]
    }
   ],
   "source": [
    "#cargamos los datos del archivo. Consisten en dos características y una etiqueta separados por espacio\n",
    "datos = np.loadtxt('AND.txt')\n",
    "\n",
    "#los separamos en datos y etiquetas\n",
    "X, etiquetas = datos[:,:-1], datos[:,-1]\n",
    "print(etiquetas)\n",
    "#reordenamos las etiquetas para que queden en formato columna\n",
    "y = np.vstack(etiquetas)\n",
    "print(X)\n",
    "print(y)\n",
    "\n",
    "#graficamos los datos de entrada\n",
    "plt.figure()\n",
    "plt.scatter(X[:,0],X[:,1])\n",
    "plt.xlabel('Dimension 1')\n",
    "plt.ylabel('Dimension 2')\n",
    "plt.title('AND')\n",
    "plt.show()\n",
    "#definimos los valores máximos y mínimos que puede tomar cada dimensión\n",
    "dim1_min, dim1_max, dim2_min, dim2_max = 0,1,0,1\n",
    "\n",
    "#Dado que los datos están seprados en dos clases, solo necesitamos un bit\n",
    "#para representar la salida. Por tanto la capa de salida solo tendrá una neurona\n",
    "\n",
    "#Número de neuronas en la capa de salida\n",
    "num_output = y.shape[1]\n",
    "#tenemos un conjunto de datos de dos dimensiones, definimos un perceptron\n",
    "# con dos neuronas a la entrada y le asignamos una a cada dimensión\n",
    "dim1 = [dim1_min, dim1_max]\n",
    "dim2 = [dim2_min, dim2_max]\n",
    "perceptron = nl.net.newp([dim1,dim2], num_output)\n",
    "#entrenamos el perceptron con el conjunto de entrenamiento \n",
    "# lr es la tasa de aprendizaje, e indica que tan rápico o que tan lento se actualizan los pasos\n",
    "#epochs indica el número de pasadas por todo el conjunto de entrenamiento\n",
    "progreso_error = perceptron.train(X, y, epochs=100, show=20, lr=0.03)\n",
    "# perceptron.layers[0].np['w'] #con esta instrucción conocemos los pesos para la capa de entrada\n",
    "\n",
    "perceptron.layers[0].np['w'] = [[1.7,-1.3]] #Le asignamos los pesos que nosotros queramos o hallamos previamente\n",
    "\n",
    "#graficamos el progreso de entrenamiento usando la métrica del error\n",
    "plt.figure() \n",
    "plt.plot(progreso_error) \n",
    "plt.xlabel('Numero de epochs') \n",
    "plt.ylabel('Error de entrenamiento') \n",
    "plt.title('Progreso del error en el entrenamiento') \n",
    "plt.grid()\n",
    "plt.show()\n",
    "\n",
    "#vamos a validar con el mismo conjunto de entrenamiento. Recuerda que la validación se hace normalmente con el conjunto de test\n",
    "y_pred = perceptron.sim(X)\n",
    "print('El acierto de clasificación es: ', (y==y_pred).sum()/len(y)*100, '%')"
   ]
  },
  {
   "cell_type": "code",
   "execution_count": 10,
   "metadata": {},
   "outputs": [
    {
     "name": "stdout",
     "output_type": "stream",
     "text": [
      "[ 0.  1.  1.  1.]\n",
      "[[ 0.  0.]\n",
      " [ 0.  1.]\n",
      " [ 1.  0.]\n",
      " [ 1.  1.]]\n",
      "[[ 0.]\n",
      " [ 1.]\n",
      " [ 1.]\n",
      " [ 1.]]\n"
     ]
    },
    {
     "data": {
      "image/png": "[encoded data removed]",
      "text/plain": [
       "<matplotlib.figure.Figure at 0x1f05f5d3a90>"
      ]
     },
     "metadata": {},
     "output_type": "display_data"
    },
    {
     "name": "stdout",
     "output_type": "stream",
     "text": [
      "The goal of learning is reached\n"
     ]
    },
    {
     "data": {
      "image/png": "[encoded data removed]",
      "text/plain": [
       "<matplotlib.figure.Figure at 0x1f05f6544e0>"
      ]
     },
     "metadata": {},
     "output_type": "display_data"
    },
    {
     "name": "stdout",
     "output_type": "stream",
     "text": [
      "El acierto de clasificación es:  100.0 %\n"
     ]
    }
   ],
   "source": [
    "#cargamos los datos del archivo. Consisten en dos características y una etiqueta separados por espacio\n",
    "datos = np.loadtxt('OR.txt')\n",
    "\n",
    "#los separamos en datos y etiquetas\n",
    "X, etiquetas = datos[:,:-1], datos[:,-1]\n",
    "print(etiquetas)\n",
    "#reordenamos las etiquetas para que queden en formato columna\n",
    "y = np.vstack(etiquetas)\n",
    "print(X)\n",
    "print(y)\n",
    "\n",
    "#graficamos los datos de entrada\n",
    "plt.figure()\n",
    "plt.scatter(X[:,0],X[:,1])\n",
    "plt.xlabel('Dimension 1')\n",
    "plt.ylabel('Dimension 2')\n",
    "plt.title('OR')\n",
    "plt.show()\n",
    "#definimos los valores máximos y mínimos que puede tomar cada dimensión\n",
    "dim1_min, dim1_max, dim2_min, dim2_max = 0,1,0,1\n",
    "\n",
    "#Dado que los datos están seprados en dos clases, solo necesitamos un bit\n",
    "#para representar la salida. Por tanto la capa de salida solo tendrá una neurona\n",
    "\n",
    "#Número de neuronas en la capa de salida\n",
    "num_output = y.shape[1]\n",
    "#tenemos un conjunto de datos de dos dimensiones, definimos un perceptron\n",
    "# con dos neuronas a la entrada y le asignamos una a cada dimensión\n",
    "dim1 = [dim1_min, dim1_max]\n",
    "dim2 = [dim2_min, dim2_max]\n",
    "perceptron = nl.net.newp([dim1,dim2], num_output)\n",
    "#entrenamos el perceptron con el conjunto de entrenamiento \n",
    "# lr es la tasa de aprendizaje, e indica que tan rápico o que tan lento se actualizan los pasos\n",
    "#epochs indica el número de pasadas por todo el conjunto de entrenamiento\n",
    "progreso_error = perceptron.train(X, y, epochs=100, show=20, lr=0.03)\n",
    "perceptron.layers[0].np['w'] #con esta instrucción conocemos los pesos para la capa de entrada\n",
    "\n",
    "# perceptron.layers[0].np['w'] = [[1.7,-1.3]] #Le asignamos los pesos que nosotros queramos o hallamos previamente\n",
    "\n",
    "#graficamos el progreso de entrenamiento usando la métrica del error\n",
    "plt.figure() \n",
    "plt.plot(progreso_error) \n",
    "plt.xlabel('Numero de epochs') \n",
    "plt.ylabel('Error de entrenamiento') \n",
    "plt.title('Progreso del error en el entrenamiento') \n",
    "plt.grid()\n",
    "plt.show()\n",
    "\n",
    "#vamos a validar con el mismo conjunto de entrenamiento. Recuerda que la validación se hace normalmente con el conjunto de test\n",
    "y_pred = perceptron.sim(X)\n",
    "print('El acierto de clasificación es: ', (y==y_pred).sum()/len(y)*100, '%')"
   ]
  },
  {
   "cell_type": "markdown",
   "metadata": {},
   "source": [
    "** Actividad 2**\n",
    "\n",
    "Se debe entrenar y validar un perceptrón para la base de datos $\\verb|datos_perceptron_2.txt|$. El problema es que esa base de datos tiene como etiquetas 0,1,2, por lo tanto vas a necesitar 2 neuronas en la capa de salida. Para hacer esta actividad ten en cuenta los siguientes requerimientos:\n",
    "\n",
    "1. Dividir la base de datos en entrenamiento y validación.\n",
    "2. Preprocesar los datos.\n",
    "3. Convertir las etiquetas en binario (00, 10, 01)\n",
    "4. Definir un perceptron con dos nodos de entrada y una capa de salida con dos neuronas\n",
    "5. Las dimensiones mínimos y máximas de la entrada las debes encontrar (no son necesariamente 0 y 1 como en el ejemplo).\n",
    "6. Entrenar la perceptrón.\n",
    "7. Determinar los pesos que el algoritmo encontró.\n",
    "8. Validar el perceptrón con los datos de test.\n",
    "9. Encontrar el acierto de clasificación comparando y_test y y_pred"
   ]
  },
  {
   "cell_type": "code",
   "execution_count": 11,
   "metadata": {},
   "outputs": [
    {
     "name": "stdout",
     "output_type": "stream",
     "text": [
      "[[ 5.88  6.2 ]\n",
      " [ 5.7   3.59]\n",
      " [ 3.42  4.47]\n",
      " ..., \n",
      " [ 6.11  4.65]\n",
      " [ 7.57  3.97]\n",
      " [ 3.89  4.13]]\n"
     ]
    }
   ],
   "source": [
    "#Punto 1\n",
    "#cargamos los datos del archivo. Consisten en dos características y una etiqueta separados por espacio\n",
    "datos = np.loadtxt('datos_perceptron_2.txt',delimiter =',')\n",
    "\n",
    "#los separamos en datos y etiquetas\n",
    "X, etiquetas = datos[:,:-1], datos[:,-1]\n",
    "# print(etiquetas)\n",
    "#reordenamos las etiquetas para que queden en formato columna\n",
    "y = np.vstack(etiquetas)\n",
    "print(X)\n",
    "# print(y)"
   ]
  },
  {
   "cell_type": "code",
   "execution_count": 12,
   "metadata": {
    "collapsed": true
   },
   "outputs": [],
   "source": [
    "#Definiciones\n",
    "from sklearn.model_selection import train_test_split\n",
    "import math\n",
    "def remocion_train_test(X_train,X_test): #Método para preprocesar X_train y X_test con remoción de la media\n",
    "    media_train = X_train.mean(axis = 0) # calculamos la media del conjunto de entrenamiento\n",
    "    desviacion_train = X_train.std(axis = 0) # calculamos la desviacion estándar del conjunto de entrenamiento\n",
    "    \n",
    "    X_train_rem = (X_train - media_train)/desviacion_train # preprocesamos la matriz de entrenamiento\n",
    "    X_test_rem = (X_test - media_train)/desviacion_train # preprocesamos la matriz de validacion o test\n",
    "    \n",
    "    return X_train_rem, X_test_rem"
   ]
  },
  {
   "cell_type": "code",
   "execution_count": 13,
   "metadata": {
    "collapsed": true
   },
   "outputs": [],
   "source": [
    "#Punto 2\n",
    "X_train, X_test, y_train, y_test = train_test_split(X,y,test_size=0.3, random_state=5)\n",
    "X_train_remocion, X_test_remocion = remocion_train_test(X_train, X_test)\n",
    "# print(y_test)"
   ]
  },
  {
   "cell_type": "code",
   "execution_count": 14,
   "metadata": {},
   "outputs": [
    {
     "name": "stdout",
     "output_type": "stream",
     "text": [
      "[[ 0.]\n",
      " [ 1.]\n",
      " [ 1.]\n",
      " [ 1.]\n",
      " [ 0.]\n",
      " [ 0.]\n",
      " [ 0.]\n",
      " [ 2.]] [[ 0.  0.]\n",
      " [ 0.  1.]\n",
      " [ 0.  1.]\n",
      " [ 0.  1.]\n",
      " [ 0.  0.]\n",
      " [ 0.  0.]\n",
      " [ 0.  0.]\n",
      " [ 1.  0.]]\n",
      "(630, 1) (630, 2)\n"
     ]
    }
   ],
   "source": [
    "#Punto 3\n",
    "def convertir_a_binario(numero, longitud): #Método para convertir una un número en un vector con su valor binario\n",
    "    vector_binario = np.zeros([longitud]) #Vector de las posiciones deseadas que guardará el valor en binario\n",
    "    binario = bin(numero)[2:] #Método para obtener el valor binario de un número\n",
    "    for i in range(longitud-len(binario)): #En caso que el valor en binario tenga longitud menor a  la deseada\n",
    "        binario = '0' + binario   #Se le agregan ceros a la izquierda\n",
    "#     print (etiqueta ,\" en binario es \", binario)\n",
    "    for i in range(longitud):\n",
    "        vector_binario[i] = binario[i] #Guardar el valor en binario en la posición correspondiente, cada posición del vector es un caracter del numero en binario\n",
    "    return vector_binario.astype(int) #Devuelvo el vector como entero\n",
    "\n",
    "# temp = convertir_a_binario(0,1)\n",
    "# print(temp)\n",
    "\n",
    "def etiquetas_a_binario(vector): #Método para convertir un vector de números a un vector de vectores con su valor binario\n",
    "    filas = len(vector) #Numero de filas en el vector\n",
    "    maximo = vector.max().astype(int) #Numero máximo del vector\n",
    "    maximo_binario = bin(maximo)[2:] #Su equivalente en binario\n",
    "    longitud = len(maximo_binario) #Su longitud, determina la longitud de cada posición del vector final\n",
    "#     longitud = len(bin((vector.max()).astype(int))[2:]) #La longitud del valor en binario basado en el número mayor del vector, determina la longitud del vector final\n",
    "    etiquetas_binarias = np.zeros((filas,longitud)) #Matriz que se llenará con las etiquetas convertidas a binario\n",
    "    for i in range(filas): #Para cada fila en el vector\n",
    "        etiqueta = vector[i] #Obtengo la etiqueta que quiero convertir a binario\n",
    "        etiquetas_binarias[i] = convertir_a_binario(int(etiqueta),longitud) #La convierto en binario\n",
    "    return etiquetas_binarias \n",
    "\n",
    "y_train_binario = etiquetas_a_binario(y_train)\n",
    "y_test_binario = etiquetas_a_binario(y_test)\n",
    "print(y_train[:8], y_train_binario[:8])\n",
    "print(y_train.shape, y_train_binario.shape)"
   ]
  },
  {
   "cell_type": "code",
   "execution_count": 15,
   "metadata": {},
   "outputs": [
    {
     "name": "stdout",
     "output_type": "stream",
     "text": [
      "-0.886274327927 1.34273149355\n",
      "0.173061485192 0.841212794541\n"
     ]
    }
   ],
   "source": [
    "#Punto 4\n",
    "def minimo_y_maximo(train,test):\n",
    "    minimo = train.min()\n",
    "    if minimo > test.min():\n",
    "        minimo = test.min()\n",
    "    maximo = train.max()\n",
    "    if maximo < test.max():\n",
    "        maximo = test.max()\n",
    "    print(minimo,maximo)\n",
    "    return minimo, maximo\n",
    "#definimos los valores máximos y mínimos que puede tomar cada dimensión\n",
    "# dim1_min, dim1_max, dim2_min, dim2_max = 0,1,0,1\n",
    "dim1_min, dim1_max = minimo_y_maximo(X_train_remocion[0],X_test_remocion[0])\n",
    "dim2_min, dim2_max = minimo_y_maximo(X_train_remocion[1],X_test_remocion[1])\n",
    "#dim1_min, dim1_max = minimo_y_maximo(X_train_remocion,X_test_remocion)\n",
    "#dim2_min, dim2_max = minimo_y_maximo(y_train_binario,y_test_binario)\n",
    "\n",
    "#Dado que los datos están seprados en dos clases, solo necesitamos un bit\n",
    "#para representar la salida. Por tanto la capa de salida solo tendrá una neurona\n",
    "\n",
    "#Número de neuronas en la capa de salida\n",
    "num_output = y_train_binario.shape[1]\n",
    "#tenemos un conjunto de datos de dos dimensiones, definimos un perceptron\n",
    "# con dos neuronas a la entrada y le asignamos una a cada dimensión\n",
    "dim1 = [dim1_min, dim1_max]\n",
    "dim2 = [dim2_min, dim2_max]\n",
    "perceptron = nl.net.newp([dim1,dim2], num_output)"
   ]
  },
  {
   "cell_type": "code",
   "execution_count": 16,
   "metadata": {},
   "outputs": [
    {
     "name": "stdout",
     "output_type": "stream",
     "text": [
      "Epoch: 500; Error: 101.0;\n",
      "Epoch: 1000; Error: 98.0;\n",
      "Epoch: 1500; Error: 96.5;\n",
      "Epoch: 2000; Error: 109.5;\n",
      "The maximum number of train epochs is reached\n"
     ]
    }
   ],
   "source": [
    "#Punto 6\n",
    "#entrenamos el perceptron con el conjunto de entrenamiento \n",
    "# lr es la tasa de aprendizaje, e indica que tan rápico o que tan lento se actualizan los pasos\n",
    "#epochs indica el número de pasadas por todo el conjunto de entrenamiento\n",
    "progreso_error = perceptron.train(X_train_remocion, y_train_binario, epochs=2000, show=500, lr=0.3)"
   ]
  },
  {
   "cell_type": "code",
   "execution_count": 17,
   "metadata": {},
   "outputs": [
    {
     "data": {
      "text/plain": [
       "array([[-0.88281648, -0.60294002],\n",
       "       [ 1.06880474, -0.31551856]])"
      ]
     },
     "execution_count": 17,
     "metadata": {},
     "output_type": "execute_result"
    }
   ],
   "source": [
    "#Punto 7\n",
    "perceptron.layers[0].np['w'] #con esta instrucción conocemos los pesos para la capa de entrada"
   ]
  },
  {
   "cell_type": "code",
   "execution_count": 18,
   "metadata": {},
   "outputs": [
    {
     "name": "stdout",
     "output_type": "stream",
     "text": [
      "(270, 2) (270, 2) 270\n",
      "El acierto de clasificación es:  False\n",
      "El acierto de clasificación es:  98.1481481481 %\n",
      "El acierto de clasificación es:  49.0740740741 %\n",
      "31.851851851851855\n",
      "[[ 0.  0.]\n",
      " [ 0.  1.]\n",
      " [ 0.  1.]\n",
      " ..., \n",
      " [ 1.  0.]\n",
      " [ 1.  0.]\n",
      " [ 0.  0.]] [[ 0.  1.]\n",
      " [ 0.  1.]\n",
      " [ 0.  1.]\n",
      " [ 0.  1.]\n",
      " [ 0.  1.]\n",
      " [ 0.  1.]\n",
      " [ 0.  1.]\n",
      " [ 0.  1.]\n",
      " [ 0.  1.]\n",
      " [ 0.  1.]\n",
      " [ 0.  1.]\n",
      " [ 0.  1.]\n",
      " [ 0.  1.]\n",
      " [ 0.  1.]\n",
      " [ 0.  1.]\n",
      " [ 0.  1.]\n",
      " [ 0.  1.]\n",
      " [ 0.  1.]\n",
      " [ 0.  1.]\n",
      " [ 0.  1.]\n",
      " [ 0.  1.]\n",
      " [ 0.  1.]\n",
      " [ 0.  1.]\n",
      " [ 0.  1.]\n",
      " [ 0.  1.]\n",
      " [ 0.  1.]\n",
      " [ 0.  1.]\n",
      " [ 0.  1.]\n",
      " [ 0.  1.]\n",
      " [ 0.  1.]\n",
      " [ 0.  1.]\n",
      " [ 0.  1.]\n",
      " [ 0.  1.]\n",
      " [ 0.  1.]\n",
      " [ 0.  1.]\n",
      " [ 0.  1.]\n",
      " [ 0.  1.]\n",
      " [ 0.  1.]\n",
      " [ 0.  1.]\n",
      " [ 0.  1.]\n",
      " [ 0.  1.]\n",
      " [ 0.  1.]\n",
      " [ 0.  1.]\n",
      " [ 0.  1.]\n",
      " [ 0.  1.]\n",
      " [ 0.  1.]\n",
      " [ 0.  1.]\n",
      " [ 0.  1.]\n",
      " [ 0.  1.]\n",
      " [ 0.  1.]\n",
      " [ 0.  1.]\n",
      " [ 0.  1.]\n",
      " [ 0.  1.]\n",
      " [ 0.  1.]\n",
      " [ 0.  1.]\n",
      " [ 0.  1.]\n",
      " [ 0.  1.]\n",
      " [ 0.  1.]\n",
      " [ 0.  1.]\n",
      " [ 0.  1.]\n",
      " [ 0.  1.]\n",
      " [ 0.  1.]\n",
      " [ 0.  1.]\n",
      " [ 0.  1.]\n",
      " [ 0.  1.]\n",
      " [ 0.  1.]\n",
      " [ 0.  1.]\n",
      " [ 0.  1.]\n",
      " [ 0.  1.]\n",
      " [ 0.  1.]\n",
      " [ 0.  1.]\n",
      " [ 0.  1.]\n",
      " [ 0.  1.]\n",
      " [ 0.  1.]\n",
      " [ 0.  1.]\n",
      " [ 0.  1.]\n",
      " [ 0.  1.]\n",
      " [ 0.  1.]\n",
      " [ 0.  1.]\n",
      " [ 0.  1.]\n",
      " [ 0.  1.]\n",
      " [ 0.  1.]\n",
      " [ 0.  1.]\n",
      " [ 0.  1.]\n",
      " [ 0.  1.]\n",
      " [ 0.  1.]\n",
      " [ 0.  1.]\n",
      " [ 0.  1.]\n",
      " [ 0.  1.]\n",
      " [ 0.  1.]\n",
      " [ 0.  1.]\n",
      " [ 0.  1.]\n",
      " [ 0.  1.]\n",
      " [ 0.  1.]\n",
      " [ 0.  1.]\n",
      " [ 0.  1.]\n",
      " [ 0.  1.]\n",
      " [ 0.  1.]\n",
      " [ 0.  1.]\n",
      " [ 0.  1.]\n",
      " [ 0.  1.]\n",
      " [ 0.  1.]\n",
      " [ 0.  1.]\n",
      " [ 0.  1.]\n",
      " [ 0.  1.]\n",
      " [ 0.  1.]\n",
      " [ 0.  1.]\n",
      " [ 0.  1.]\n",
      " [ 0.  1.]\n",
      " [ 0.  1.]\n",
      " [ 0.  1.]\n",
      " [ 0.  1.]\n",
      " [ 0.  1.]\n",
      " [ 0.  1.]\n",
      " [ 0.  1.]\n",
      " [ 0.  1.]\n",
      " [ 0.  1.]\n",
      " [ 0.  1.]\n",
      " [ 0.  1.]\n",
      " [ 0.  1.]\n",
      " [ 0.  1.]\n",
      " [ 0.  1.]\n",
      " [ 0.  1.]\n",
      " [ 0.  1.]\n",
      " [ 0.  1.]\n",
      " [ 0.  1.]\n",
      " [ 0.  1.]\n",
      " [ 0.  1.]\n",
      " [ 0.  1.]\n",
      " [ 0.  1.]\n",
      " [ 0.  1.]\n",
      " [ 0.  1.]\n",
      " [ 0.  1.]\n",
      " [ 0.  1.]\n",
      " [ 0.  1.]\n",
      " [ 0.  1.]\n",
      " [ 0.  1.]\n",
      " [ 0.  1.]\n",
      " [ 0.  1.]\n",
      " [ 0.  1.]\n",
      " [ 0.  1.]\n",
      " [ 0.  1.]\n",
      " [ 0.  1.]\n",
      " [ 0.  1.]\n",
      " [ 0.  1.]\n",
      " [ 0.  1.]\n",
      " [ 0.  1.]\n",
      " [ 0.  1.]\n",
      " [ 0.  1.]\n",
      " [ 0.  1.]\n",
      " [ 0.  1.]\n",
      " [ 0.  1.]\n",
      " [ 0.  1.]\n",
      " [ 0.  1.]\n",
      " [ 0.  1.]\n",
      " [ 0.  1.]\n",
      " [ 0.  1.]\n",
      " [ 0.  1.]\n",
      " [ 0.  1.]\n",
      " [ 0.  1.]\n",
      " [ 0.  1.]\n",
      " [ 0.  1.]\n",
      " [ 0.  1.]\n",
      " [ 0.  1.]\n",
      " [ 0.  1.]\n",
      " [ 0.  1.]\n",
      " [ 0.  1.]\n",
      " [ 0.  1.]\n",
      " [ 0.  1.]\n",
      " [ 0.  1.]\n",
      " [ 0.  1.]\n",
      " [ 0.  1.]\n",
      " [ 0.  1.]\n",
      " [ 0.  1.]\n",
      " [ 0.  1.]\n",
      " [ 0.  1.]\n",
      " [ 0.  1.]\n",
      " [ 0.  1.]\n",
      " [ 0.  1.]\n",
      " [ 0.  1.]\n",
      " [ 0.  1.]\n",
      " [ 0.  1.]\n",
      " [ 0.  1.]\n",
      " [ 0.  1.]\n",
      " [ 0.  1.]\n",
      " [ 0.  1.]\n",
      " [ 0.  1.]\n",
      " [ 0.  1.]\n",
      " [ 0.  1.]\n",
      " [ 0.  1.]\n",
      " [ 0.  1.]\n",
      " [ 0.  1.]\n",
      " [ 0.  1.]\n",
      " [ 0.  1.]\n",
      " [ 0.  1.]\n",
      " [ 0.  1.]\n",
      " [ 0.  1.]\n",
      " [ 0.  1.]\n",
      " [ 0.  1.]\n",
      " [ 0.  1.]\n",
      " [ 0.  1.]\n",
      " [ 0.  1.]\n",
      " [ 0.  1.]\n",
      " [ 0.  1.]\n",
      " [ 0.  1.]\n",
      " [ 0.  1.]\n",
      " [ 0.  1.]\n",
      " [ 0.  1.]\n",
      " [ 0.  1.]\n",
      " [ 0.  1.]\n",
      " [ 0.  1.]\n",
      " [ 0.  1.]\n",
      " [ 0.  1.]\n",
      " [ 0.  1.]\n",
      " [ 0.  1.]\n",
      " [ 0.  1.]\n",
      " [ 0.  1.]\n",
      " [ 0.  1.]\n",
      " [ 0.  1.]\n",
      " [ 0.  1.]\n",
      " [ 0.  1.]\n",
      " [ 0.  1.]\n",
      " [ 0.  1.]\n",
      " [ 0.  1.]\n",
      " [ 0.  1.]\n",
      " [ 0.  1.]\n",
      " [ 0.  1.]\n",
      " [ 0.  1.]\n",
      " [ 0.  1.]\n",
      " [ 0.  1.]\n",
      " [ 0.  1.]\n",
      " [ 0.  1.]\n",
      " [ 0.  1.]\n",
      " [ 0.  1.]\n",
      " [ 0.  1.]\n",
      " [ 0.  1.]\n",
      " [ 0.  1.]\n",
      " [ 0.  1.]\n",
      " [ 0.  1.]\n",
      " [ 0.  1.]\n",
      " [ 0.  1.]\n",
      " [ 0.  1.]\n",
      " [ 0.  1.]\n",
      " [ 0.  1.]\n",
      " [ 0.  1.]\n",
      " [ 0.  1.]\n",
      " [ 0.  1.]\n",
      " [ 0.  1.]\n",
      " [ 0.  1.]\n",
      " [ 0.  1.]\n",
      " [ 0.  1.]\n",
      " [ 0.  1.]\n",
      " [ 0.  1.]\n",
      " [ 0.  1.]\n",
      " [ 0.  1.]\n",
      " [ 0.  1.]\n",
      " [ 0.  1.]\n",
      " [ 0.  1.]\n",
      " [ 0.  1.]\n",
      " [ 0.  1.]\n",
      " [ 0.  1.]\n",
      " [ 0.  1.]\n",
      " [ 0.  0.]\n",
      " [ 0.  1.]\n",
      " [ 0.  1.]\n",
      " [ 0.  1.]\n",
      " [ 0.  1.]\n",
      " [ 0.  1.]\n",
      " [ 0.  1.]\n",
      " [ 0.  1.]]\n"
     ]
    }
   ],
   "source": [
    "#Punto 8\n",
    "#vamos a validar con el mismo conjunto de entrenamiento. Recuerda que la validación se hace normalmente con el conjunto de test\n",
    "y_pred = perceptron.sim(X_test)\n",
    "print(X_test.shape, y_pred.shape, len(y_test_binario))\n",
    "print('El acierto de clasificación es: ', (y_test_binario==y_pred).all())\n",
    "print('El acierto de clasificación es: ', (y_test_binario==y_pred).sum()/len(y_test_binario)*100, '%')\n",
    "print('El acierto de clasificación es: ', (y_test_binario==y_pred).sum()/(np.shape(y_test_binario)[0]*np.shape(y_test_binario)[1])*100, '%')\n",
    "contador = 0\n",
    "for i in range(len(y_pred)):\n",
    "    if(y_pred[i][0] == y_test_binario[i][0] and y_pred[i][1] == y_test_binario[i][1]):\n",
    "        contador += 1\n",
    "print(contador/len(y_pred)*100)\n",
    "print(y_train_binario, y_pred)"
   ]
  },
  {
   "cell_type": "code",
   "execution_count": 19,
   "metadata": {},
   "outputs": [
    {
     "name": "stdout",
     "output_type": "stream",
     "text": [
      "(630, 2) (630, 2) 630\n",
      "El acierto de clasificación es:  False\n",
      "El acierto de clasificación es:  101.746031746 %\n",
      "34.6031746031746\n",
      "[[ 0.  0.]\n",
      " [ 0.  1.]\n",
      " [ 0.  1.]\n",
      " ..., \n",
      " [ 1.  0.]\n",
      " [ 1.  0.]\n",
      " [ 0.  0.]] [[ 0.  1.]\n",
      " [ 0.  1.]\n",
      " [ 0.  1.]\n",
      " ..., \n",
      " [ 0.  1.]\n",
      " [ 0.  1.]\n",
      " [ 0.  1.]]\n"
     ]
    }
   ],
   "source": [
    "#Punto 8\n",
    "#vamos a validar con el mismo conjunto de entrenamiento. Recuerda que la validación se hace normalmente con el conjunto de test\n",
    "y_pred = perceptron.sim(X_train)\n",
    "print(X_train.shape, y_pred.shape, len(y_pred))\n",
    "print('El acierto de clasificación es: ', (y_train_binario==y_pred).all())\n",
    "print('El acierto de clasificación es: ', (y_train_binario==y_pred).sum()/len(y_train_binario)*100, '%')\n",
    "contador = 0\n",
    "for i in range(len(y_pred)):\n",
    "    if(y_pred[i][0] == y_train_binario[i][0] and y_pred[i][1] == y_train_binario[i][1]):\n",
    "        contador += 1\n",
    "print(contador/len(y_pred)*100)\n",
    "print(y_train_binario, y_pred)"
   ]
  },
  {
   "cell_type": "code",
   "execution_count": 22,
   "metadata": {},
   "outputs": [
    {
     "name": "stdout",
     "output_type": "stream",
     "text": [
      "(3, 2)\n"
     ]
    }
   ],
   "source": [
    "print(np.shape([dim1,dim2,dim1]))"
   ]
  }
 ],
 "metadata": {
  "anaconda-cloud": {},
  "kernelspec": {
   "display_name": "Python 3",
   "language": "python",
   "name": "python3"
  },
  "language_info": {
   "codemirror_mode": {
    "name": "ipython",
    "version": 3
   },
   "file_extension": ".py",
   "mimetype": "text/x-python",
   "name": "python",
   "nbconvert_exporter": "python",
   "pygments_lexer": "ipython3",
   "version": "3.7.1"
  }
 },
 "nbformat": 4,
 "nbformat_minor": 2
}
