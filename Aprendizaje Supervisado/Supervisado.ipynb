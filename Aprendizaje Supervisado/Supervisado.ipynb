{
 "cells": [
  {
   "cell_type": "markdown",
   "metadata": {},
   "source": [
    
    "\n",
    "## Nombre: Juan Camilo Urrego Serna"
   ]
  },
  {
   "cell_type": "markdown",
   "metadata": {},
   "source": [
    "Se tiene una base de datos de evaluación de automóviles, en donde cada automovil se ha caracterizado mediante 6 atributos:  \n",
    "\n",
    "1. La precio de compra, llamado *buying* , que puede tener los siguientes valores: vhigh, high, med, low. \n",
    "2. El costo del mantenimiento, llamado *maint* que puede tener los siguientes valores: vhigh, high, med, low. \n",
    "3. El número de puertas, llamado *doors*, que puede tener los siguientes valores: 2, 3, 4, 5more. \n",
    "4. La capacidad experesada en el número de personas, llamado *persons*, que puede tener los siguientes valores: 2, 4, more. \n",
    "5. El tamaño del portamaletas,llamado *lug_boot*, que puede tener los siguientes valores: small, med, big. \n",
    "6. La seguridad estimada del auto, llamado *safety*,que puede tener los siguientes valores: low, med, high. \n",
    "\n",
    "De acuerdo con estas seis características, el auto puede ser clasificado en inaceptable (*unacc*), aceptable (*acc*), bueno (*good*) o muy bueno (*vgood*).\n",
    "\n",
    "Le piden construir un sistema experto que clasifique automáticamente los autores utilizando la base de datos mencionada para su entrenamiento y validación, y el modelo de regresión logística como algoritmo de aprendizaje de máquina. Para la construcción del sistema tenga en cuenta las siguientes condiciones:\n",
    "\n",
    "1. La base de datos y su descripción se encuentra el la página https://archive.ics.uci.edu/ml/datasets/Car+Evaluation. Debe descargar los datos y separarlos de las etiquetas de forma correcta. \n",
    "2. El algoritmo de regresión logística no acepta variables categóricas como entradas o salidas (letras), por tanto debe convertir las variables que tiene a valores numéricos (variables numéricas). La forma en se haga la conversión es libre, pero debe ser especificada en los comentarios del código. Recuerde que debe hacer esto tanto para los datos como para las etiquetas.\n",
    "3. Se debe tener una etapa de preprocesamiento.\n",
    "4. Se debe mostrar el acierto de clasificación.\n",
    "5. Si requiere alguna información que no está especificada en las condiciones, la debe suponer y justificar correctamente."
   ]
  },
  {
   "cell_type": "code",
   "execution_count": 14,
   "metadata": {
    "collapsed": true
   },
   "outputs": [
    {
     "name": "stdout",
     "output_type": "stream",
     "text": [
      "<class 'numpy.ndarray'> <U5\n",
      "(1728, 7)\n"
     ]
    }
   ],
   "source": [
    "#espacio para solucionar el quiz 1\n",
    "import numpy as np\n",
    "from sklearn.linear_model import LogisticRegression\n",
    "from sklearn.model_selection import train_test_split\n",
    "from numpy import genfromtxt #librería para leer archivos de texto\n",
    "\n",
    "#Primero debes ingresar a la URL del párrafo superior y descargar la base de datos. La encontrarás como wine.data.\n",
    "#Una vez descargada, guárdala en la misma ruta del notebook\n",
    "\n",
    "#librería para el preprocesamiento\n",
    "from sklearn import preprocessing\n",
    "\n",
    "data = genfromtxt('car.data', dtype=str, delimiter=',') #almacenamos la base de datos en la variable data\n",
    "print(type(data),data.dtype) #nos muestra el tipo de varible que es data y el tipo de datos que contiene\n",
    "print(data.shape)\n",
    "#debemos tener en cuenta que para esta base de datos la primera columna es la etiqueta y las siguientes 13 son los \n",
    "#atributos."
   ]
  },
  {
   "cell_type": "code",
   "execution_count": 15,
   "metadata": {},
   "outputs": [],
   "source": [
    "#2. Función para convertir datos a variables númericas\n",
    "def preprocesar(matriz):\n",
    "    matriz_procesada = np.zeros_like(matriz, dtype=int) #Creamos la matriz donde guardaremos los datos\n",
    "    filas = np.shape(matriz)[0] \n",
    "    columnas = np.shape(matriz)[1]\n",
    "    valor3 = set([\"vhigh\",\"5more\",\"more\",\"vgood\"]) #Set de valores que se convertirán al valor 3\n",
    "    valor2 = set([\"high\",\"4\",\"big\",\"good\"]) #Set de valores que se convertirán al valor 2\n",
    "    valor1 = set([\"med\",\"3\",\"acc\"]) #Set de valores que se convertirán al valor 1\n",
    "    valor0 = set([\"low\",\"2\",\"small\",\"unacc\"]) #Set de valores que se convertirán al valor 0\n",
    "    #Recorro toda la matriz y hago las conversiones correspondientes y lo guardo en la matriz creada\n",
    "    for i in range(filas):\n",
    "        for j in range(columnas):\n",
    "            dato = matriz[i,j]\n",
    "            if(dato in valor3):\n",
    "                matriz_procesada[i,j] = 3\n",
    "            elif(dato in valor2):\n",
    "                matriz_procesada[i,j] = 2\n",
    "            elif(dato in valor1):\n",
    "                matriz_procesada[i,j] = 1\n",
    "            elif(dato in valor0):\n",
    "                matriz_procesada[i,j] = 0\n",
    "    return matriz_procesada\n",
    "\n"
   ]
  },
  {
   "cell_type": "code",
   "execution_count": 16,
   "metadata": {},
   "outputs": [
    {
     "name": "stdout",
     "output_type": "stream",
     "text": [
      "(1728, 6)\n",
      "(1728, 1)\n"
     ]
    }
   ],
   "source": [
    "#Llamamos a la funcion y se lo asignamos a una variable\n",
    "datos = preprocesar(data)\n",
    "\n",
    "#los separamos en datos y etiquetas\n",
    "x = datos[:,:-1]\n",
    "y =  datos[:,-1:]\n",
    "\n",
    "#Verificamos que se divida correctamente\n",
    "print(x.shape)\n",
    "print(y.shape)"
   ]
  },
  {
   "cell_type": "code",
   "execution_count": 17,
   "metadata": {},
   "outputs": [],
   "source": [
    "from sklearn.model_selection import train_test_split\n",
    "#Dividimos los datos un 30% para test\n",
    "X_train, X_test, y_train, y_test = train_test_split(x,y,test_size=0.3, random_state=0)\n"
   ]
  },
  {
   "cell_type": "code",
   "execution_count": 18,
   "metadata": {},
   "outputs": [
    {
     "name": "stdout",
     "output_type": "stream",
     "text": [
      "<class 'numpy.ndarray'>\n"
     ]
    }
   ],
   "source": [
    "#3. Etapa de preprocesamiento: Preprocesamiento por remocion de la media para X_train y X_test\n",
    "def remocion_train_test(X_train,X_test):\n",
    "    media_train = X_train.mean(axis = 0) # calculamos la media del conjunto de entrenamiento\n",
    "    desviacion_train = X_train.std(axis = 0) # calculamos la desviacion estándar del conjunto de entrenamiento\n",
    "    \n",
    "    X_train_rem = (X_train - media_train)/desviacion_train # preprocesamos la matriz de entrenamiento\n",
    "    X_test_rem = (X_test - media_train)/desviacion_train # preprocesamos la matriz de validacion o test\n",
    "    \n",
    "    return X_train_rem, X_test_rem\n",
    "\n",
    "#X_train y X_test usando preprocesamiento por remocion de la media\n",
    "X_train_remocion, X_test_remocion = remocion_train_test(X_train, X_test)\n",
    "print(type(X_train_remocion))\n"
   ]
  },
  {
   "cell_type": "code",
   "execution_count": 19,
   "metadata": {},
   "outputs": [],
   "source": [
    "clasificador1 = LogisticRegression(C=10.0, random_state = 0)\n",
    "clasificador2 = LogisticRegression(C=269.0, random_state = 0)\n",
    "clasificador3 = LogisticRegression(C=670.0, random_state = 0)\n",
    "clasificador4 = LogisticRegression(C=700.0, random_state = 0)\n",
    "clasificador5 = LogisticRegression(C=1000.0, random_state = 0)"
   ]
  },
  {
   "cell_type": "code",
   "execution_count": 20,
   "metadata": {},
   "outputs": [
    {
     "name": "stderr",
     "output_type": "stream",
     "text": [
      "C:\\ProgramData\\Anaconda3\\lib\\site-packages\\sklearn\\linear_model\\logistic.py:433: FutureWarning: Default solver will be changed to 'lbfgs' in 0.22. Specify a solver to silence this warning.\n",
      "  FutureWarning)\n",
      "C:\\ProgramData\\Anaconda3\\lib\\site-packages\\sklearn\\utils\\validation.py:761: DataConversionWarning: A column-vector y was passed when a 1d array was expected. Please change the shape of y to (n_samples, ), for example using ravel().\n",
      "  y = column_or_1d(y, warn=True)\n",
      "C:\\ProgramData\\Anaconda3\\lib\\site-packages\\sklearn\\linear_model\\logistic.py:460: FutureWarning: Default multi_class will be changed to 'auto' in 0.22. Specify the multi_class option to silence this warning.\n",
      "  \"this warning.\", FutureWarning)\n",
      "C:\\ProgramData\\Anaconda3\\lib\\site-packages\\sklearn\\linear_model\\logistic.py:433: FutureWarning: Default solver will be changed to 'lbfgs' in 0.22. Specify a solver to silence this warning.\n",
      "  FutureWarning)\n",
      "C:\\ProgramData\\Anaconda3\\lib\\site-packages\\sklearn\\utils\\validation.py:761: DataConversionWarning: A column-vector y was passed when a 1d array was expected. Please change the shape of y to (n_samples, ), for example using ravel().\n",
      "  y = column_or_1d(y, warn=True)\n",
      "C:\\ProgramData\\Anaconda3\\lib\\site-packages\\sklearn\\linear_model\\logistic.py:460: FutureWarning: Default multi_class will be changed to 'auto' in 0.22. Specify the multi_class option to silence this warning.\n",
      "  \"this warning.\", FutureWarning)\n",
      "C:\\ProgramData\\Anaconda3\\lib\\site-packages\\sklearn\\linear_model\\logistic.py:433: FutureWarning: Default solver will be changed to 'lbfgs' in 0.22. Specify a solver to silence this warning.\n",
      "  FutureWarning)\n",
      "C:\\ProgramData\\Anaconda3\\lib\\site-packages\\sklearn\\utils\\validation.py:761: DataConversionWarning: A column-vector y was passed when a 1d array was expected. Please change the shape of y to (n_samples, ), for example using ravel().\n",
      "  y = column_or_1d(y, warn=True)\n",
      "C:\\ProgramData\\Anaconda3\\lib\\site-packages\\sklearn\\linear_model\\logistic.py:460: FutureWarning: Default multi_class will be changed to 'auto' in 0.22. Specify the multi_class option to silence this warning.\n",
      "  \"this warning.\", FutureWarning)\n",
      "C:\\ProgramData\\Anaconda3\\lib\\site-packages\\sklearn\\linear_model\\logistic.py:433: FutureWarning: Default solver will be changed to 'lbfgs' in 0.22. Specify a solver to silence this warning.\n",
      "  FutureWarning)\n",
      "C:\\ProgramData\\Anaconda3\\lib\\site-packages\\sklearn\\utils\\validation.py:761: DataConversionWarning: A column-vector y was passed when a 1d array was expected. Please change the shape of y to (n_samples, ), for example using ravel().\n",
      "  y = column_or_1d(y, warn=True)\n",
      "C:\\ProgramData\\Anaconda3\\lib\\site-packages\\sklearn\\linear_model\\logistic.py:460: FutureWarning: Default multi_class will be changed to 'auto' in 0.22. Specify the multi_class option to silence this warning.\n",
      "  \"this warning.\", FutureWarning)\n",
      "C:\\ProgramData\\Anaconda3\\lib\\site-packages\\sklearn\\linear_model\\logistic.py:433: FutureWarning: Default solver will be changed to 'lbfgs' in 0.22. Specify a solver to silence this warning.\n",
      "  FutureWarning)\n",
      "C:\\ProgramData\\Anaconda3\\lib\\site-packages\\sklearn\\utils\\validation.py:761: DataConversionWarning: A column-vector y was passed when a 1d array was expected. Please change the shape of y to (n_samples, ), for example using ravel().\n",
      "  y = column_or_1d(y, warn=True)\n",
      "C:\\ProgramData\\Anaconda3\\lib\\site-packages\\sklearn\\linear_model\\logistic.py:460: FutureWarning: Default multi_class will be changed to 'auto' in 0.22. Specify the multi_class option to silence this warning.\n",
      "  \"this warning.\", FutureWarning)\n"
     ]
    },
    {
     "data": {
      "text/plain": [
       "LogisticRegression(C=1000.0, class_weight=None, dual=False,\n",
       "          fit_intercept=True, intercept_scaling=1, max_iter=100,\n",
       "          multi_class='warn', n_jobs=None, penalty='l2', random_state=0,\n",
       "          solver='warn', tol=0.0001, verbose=0, warm_start=False)"
      ]
     },
     "execution_count": 20,
     "metadata": {},
     "output_type": "execute_result"
    }
   ],
   "source": [
    "#entrenamiento para remocion\n",
    "clasificador1.fit(X_train_remocion,y_train)\n",
    "clasificador2.fit(X_train_remocion,y_train)\n",
    "clasificador3.fit(X_train_remocion,y_train)\n",
    "clasificador4.fit(X_train_remocion,y_train)\n",
    "clasificador5.fit(X_train_remocion,y_train)"
   ]
  },
  {
   "cell_type": "code",
   "execution_count": 26,
   "metadata": {},
   "outputs": [],
   "source": [
    "y_pred1 = clasificador1.predict(X_test_remocion)\n",
    "y_pred2 = clasificador2.predict(X_test_remocion)\n",
    "y_pred3 = clasificador3.predict(X_test_remocion)\n",
    "y_pred4 = clasificador4.predict(X_test_remocion)\n",
    "y_pred5 = clasificador5.predict(X_test_remocion)"
   ]
  },
  {
   "cell_type": "code",
   "execution_count": 99,
   "metadata": {},
   "outputs": [
    {
     "name": "stdout",
     "output_type": "stream",
     "text": [
      "Remocion \n",
      "\n",
      "El acierto de clasificación es,  81.31021194605009 %\n",
      "El acierto de clasificación es,  81.69556840077071 %\n",
      "El acierto de clasificación es,  81.69556840077071 %\n",
      "El acierto de clasificación es,  81.69556840077071 %\n",
      "El acierto de clasificación es,  81.69556840077071 %\n"
     ]
    }
   ],
   "source": [
    "print('Remocion \\n')\n",
    "import numpy as np\n",
    "\n",
    "\n",
    "nuevo = []\n",
    "for i in range(len(y_test)):\n",
    "    nuevo.insert(len(nuevo), int(y_test[i]))\n",
    "\n",
    "\n",
    "acierto = (nuevo == y_pred1).sum()/len(y_test)\n",
    "print('El acierto de clasificación es, ', acierto*100, '%')\n",
    "acierto = (nuevo == y_pred2).sum()/len(y_test)\n",
    "print('El acierto de clasificación es, ', acierto*100, '%')\n",
    "acierto = (nuevo == y_pred3).sum()/len(y_test)\n",
    "print('El acierto de clasificación es, ', acierto*100, '%')\n",
    "acierto = (nuevo == y_pred4).sum()/len(y_test)\n",
    "print('El acierto de clasificación es, ', acierto*100, '%')\n",
    "acierto = (nuevo == y_pred5).sum()/len(y_test)\n",
    "print('El acierto de clasificación es, ', acierto*100, '%')"
   ]
  }
 ],
 "metadata": {
  "kernelspec": {
   "display_name": "Python 3",
   "language": "python",
   "name": "python3"
  },
  "language_info": {
   "codemirror_mode": {
    "name": "ipython",
    "version": 3
   },
   "file_extension": ".py",
   "mimetype": "text/x-python",
   "name": "python",
   "nbconvert_exporter": "python",
   "pygments_lexer": "ipython3",
   "version": "3.7.3"
  }
 },
 "nbformat": 4,
 "nbformat_minor": 2
}
