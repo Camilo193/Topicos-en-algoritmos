{
 "cells": [
  {
   "cell_type": "markdown",
   "metadata": {},
   "source": [
    "Se tiene una base de datos de evaluación de automóviles, en donde cada automovil se ha caracterizado mediante 6 atributos:  \n",
    "\n",
    "1. La precio de compra, llamado *buying* , que puede tener los siguientes valores: vhigh, high, med, low. \n",
    "2. El costo del mantenimiento, llamado *maint* que puede tener los siguientes valores: vhigh, high, med, low. \n",
    "3. El número de puertas, llamado *doors*, que puede tener los siguientes valores: 2, 3, 4, 5more. \n",
    "4. La capacidad experesada en el número de personas, llamado *persons*, que puede tener los siguientes valores: 2, 4, more. \n",
    "5. El tamaño del portamaletas,llamado *lug_boot*, que puede tener los siguientes valores: small, med, big. \n",
    "6. La seguridad estimada del auto, llamado *safety*,que puede tener los siguientes valores: low, med, high. \n",
    "\n",
    "De acuerdo con estas seis características, el auto puede ser clasificado en inaceptable (*unacc*), aceptable (*acc*), bueno (*good*) o muy bueno (*vgood*).\n",
    "\n",
    "Le piden construir un sistema experto que clasifique automáticamente los autores utilizando la base de datos mencionada para su entrenamiento y validación, y el modelo de perceptrón como algoritmo de aprendizaje de máquina. Para la construcción del sistema tenga en cuenta las siguientes condiciones:\n",
    "\n",
    "1. La base de datos y su descripción se encuentra el la página https://archive.ics.uci.edu/ml/datasets/Car+Evaluation. Debe descargar los datos y separarlos de las etiquetas de forma correcta. \n",
    "2. El perceptron no acepta variables categóricas como entradas o salidas (letras), por tanto debe convertir las variables que tiene a valores numéricos (variables numéricas). La forma en se haga la conversión es libre, perodebe ser especificada en los comentarios del código. Recuerde que debe hacer esto tanto para los datos como para las etiquetas.\n",
    "3. Se debe tener una etapa de preprocesamiento.\n",
    "4. Se debe mostrar el acierto de clasificación.\n",
    "5. Si requiere alguna información que no está especificada en las condiciones, la debe suponer y justificar correctamente."
   ]
  },
  {
   "cell_type": "code",
   "execution_count": 2,
   "metadata": {},
   "outputs": [
    {
     "name": "stdout",
     "output_type": "stream",
     "text": [
      "(1728, 7)\n"
     ]
    }
   ],
   "source": [
    "import numpy as np\n",
    "import math\n",
    "from numpy import genfromtxt\n",
    "from sklearn.model_selection import train_test_split\n",
    "from scipy import stats\n",
    "from sklearn import neighbors, datasets\n",
    "import neurolab as nl\n",
    "\n",
    "#Cargamos los datos del archivo.\n",
    "data = genfromtxt('car.data', dtype=str, delimiter=',')\n",
    "print(data.shape)"
   ]
  },
  {
   "cell_type": "code",
   "execution_count": 3,
   "metadata": {},
   "outputs": [],
   "source": [
    "def preprocesar(matriz):\n",
    "    matriz_procesada = np.zeros_like(matriz, dtype=int) #Creamos la matriz donde guardaremos los datos\n",
    "    filas = np.shape(matriz)[0] \n",
    "    columnas = np.shape(matriz)[1]\n",
    "    valor3 = set([\"vhigh\",\"5more\",\"more\",\"vgood\"]) #Set de valores que se convertirán al valor 3\n",
    "    valor2 = set([\"high\",\"4\",\"big\",\"good\"]) #Set de valores que se convertirán al valor 2\n",
    "    valor1 = set([\"med\",\"3\",\"acc\"]) #Set de valores que se convertirán al valor 1\n",
    "    valor0 = set([\"low\",\"2\",\"small\",\"unacc\"]) #Set de valores que se convertirán al valor 0\n",
    "    #Recorro toda la matriz y hago las conversiones correspondientes y lo guardo en la matriz creada\n",
    "    for i in range(filas):\n",
    "        for j in range(columnas):\n",
    "            dato = matriz[i,j]\n",
    "            if(dato in valor3):\n",
    "                matriz_procesada[i,j] = 3\n",
    "            elif(dato in valor2):\n",
    "                matriz_procesada[i,j] = 2\n",
    "            elif(dato in valor1):\n",
    "                matriz_procesada[i,j] = 1\n",
    "            elif(dato in valor0):\n",
    "                matriz_procesada[i,j] = 0\n",
    "    return matriz_procesada\n",
    "\n",
    "def convertir_a_binario(numero, longitud): #Método para convertir un número en un vector con su valor binario\n",
    "    vector_binario = np.zeros([longitud]) #Vector de las posiciones deseadas que guardará el valor en binario\n",
    "    binario = bin(numero)[2:] #Método para obtener el valor binario de un número\n",
    "    for i in range(longitud-len(binario)): #En caso que el valor en binario tenga longitud menor a  la deseada\n",
    "        binario = '0' + binario   #Se le agregan ceros a la izquierda\n",
    "#     print (etiqueta ,\" en binario es \", binario)\n",
    "    for i in range(longitud):\n",
    "        vector_binario[i] = binario[i] #Guardar el valor en binario en la posición correspondiente, cada posición del vector es un caracter del numero en binario\n",
    "    return vector_binario.astype(int) #Devuelvo el vector como entero\n",
    "\n",
    "# temp = convertir_a_binario(0,1)\n",
    "# print(temp)\n",
    "\n",
    "def etiquetas_a_binario(vector): #Método para convertir un vector de números a un vector de vectores con su valor binario\n",
    "    filas = len(vector) #Numero de filas en el vector\n",
    "    maximo = vector.max().astype(int) #Numero máximo del vector\n",
    "    maximo_binario = bin(maximo)[2:] #Su equivalente en binario\n",
    "    longitud = len(maximo_binario) #Su longitud, determina la longitud de cada posición del vector final\n",
    "#     longitud = len(bin((vector.max()).astype(int))[2:]) #La longitud del valor en binario basado en el número mayor del vector, determina la longitud del vector final\n",
    "    etiquetas_binarias = np.zeros((filas,longitud)) #Matriz que se llenará con las etiquetas convertidas a binario\n",
    "    for i in range(filas): #Para cada fila en el vector\n",
    "        etiqueta = vector[i] #Obtengo la etiqueta que quiero convertir a binario\n",
    "        etiquetas_binarias[i] = convertir_a_binario(int(etiqueta),longitud) #La convierto en binario\n",
    "    return etiquetas_binarias \n",
    "\n",
    "def matriz_a_binario(matriz): #Método para convertir una matriz de numeros a una matriz con sus valores en binario como vectores\n",
    "    #     longitud = len(bin((vector.max()).astype(int))[2:]) #La longitud del valor en binario basado en el número mayor del vector, determina la longitud del vector final\n",
    "    maximo = matriz.max().astype(int) #Valor máximo en la matriz\n",
    "    maximo_binario = bin(maximo)[2:] #Su equivalente en binario\n",
    "    longitud = len(maximo_binario) #Su longitud, determina la longitud de cada posición de la matriz final\n",
    "    filas = np.shape(matriz)[0] \n",
    "    columnas = np.shape(matriz)[1]\n",
    "    matriz_binaria = np.zeros((filas,columnas,longitud)) #Creo una matriz con las mismas dimensiones de matriz pero cada posición es un vector\n",
    "    for i in range(filas):\n",
    "        for j in range(columnas):\n",
    "            dato = matriz[i,j]\n",
    "            matriz_binaria[i,j] = convertir_a_binario(dato,longitud)\n",
    "    return matriz_binaria"
   ]
  },
  {
   "cell_type": "code",
   "execution_count": 4,
   "metadata": {},
   "outputs": [
    {
     "name": "stdout",
     "output_type": "stream",
     "text": [
      "(1728, 6)\n",
      "[[0. 0.]\n",
      " [0. 0.]\n",
      " [0. 0.]\n",
      " ...\n",
      " [0. 0.]\n",
      " [1. 0.]\n",
      " [1. 1.]]\n"
     ]
    }
   ],
   "source": [
    "#Preprocesamos los datos y los convertimos a binario\n",
    "datos = preprocesar(data)\n",
    "# datos = matriz_a_binario(datos_preprocesados)\n",
    "\n",
    "#los separamos en datos y etiquetas\n",
    "X, etiquetas = datos[:,:-1], datos[:,-1]\n",
    "print(X.shape)\n",
    "\n",
    "etiquetas_binarias = etiquetas_a_binario(etiquetas)\n",
    "#reordenamos las etiquetas para que queden en formato columna\n",
    "y = np.vstack(etiquetas_binarias)\n",
    "print(y)"
   ]
  },
  {
   "cell_type": "code",
   "execution_count": 5,
   "metadata": {},
   "outputs": [],
   "source": [
    "#Hacemos la función para la remoción de la media, nuestra idea es que la desviación estándar sea 1 y la media sea 0\n",
    "def Remocion(X): #definimos la función\n",
    "    X = X - X.mean(axis=0) # a los datos les restamos el valor de la media\n",
    "    X = X/X.std(axis=0) #al resultado lo dividimos por la desviación estándar\n",
    "    return X #retornamos los datos normalizamos\n",
    "X_remocion = Remocion(X)"
   ]
  },
  {
   "cell_type": "code",
   "execution_count": 6,
   "metadata": {},
   "outputs": [
    {
     "name": "stdout",
     "output_type": "stream",
     "text": [
      "(1209, 6) (1209, 2)\n",
      "(519, 6) (519, 2)\n"
     ]
    }
   ],
   "source": [
    "X_train, X_test, y_train, y_test = train_test_split(X_remocion,y,test_size=0.3, random_state=5)\n",
    "print(X_train.shape, y_train.shape)\n",
    "print(X_test.shape, y_test.shape)"
   ]
  },
  {
   "cell_type": "code",
   "execution_count": 7,
   "metadata": {},
   "outputs": [],
   "source": [
    "def minimo_y_maximo(train,test):\n",
    "    minimo = train.min()\n",
    "    if minimo > test.min():\n",
    "        minimo = test.min()\n",
    "    maximo = train.max()\n",
    "    if maximo < test.max():\n",
    "        maximo = test.max()\n",
    "    print(minimo,maximo)\n",
    "    return minimo, maximo"
   ]
  },
  {
   "cell_type": "code",
   "execution_count": 8,
   "metadata": {},
   "outputs": [
    {
     "name": "stdout",
     "output_type": "stream",
     "text": [
      "-1.3416407864998738 1.3416407864998738\n",
      "-1.224744871391589 1.3416407864998738\n",
      "-1.3416407864998738 1.3416407864998738\n",
      "-1.336306209562106 1.3416407864998738\n",
      "-1.3416407864998738 1.3416407864998738\n",
      "-1.224744871391589 1.3416407864998738\n",
      "Epoch: 500; Error: 157.0;\n",
      "Epoch: 1000; Error: 157.0;\n",
      "Epoch: 1500; Error: 157.0;\n",
      "Epoch: 2000; Error: 157.0;\n",
      "The maximum number of train epochs is reached\n"
     ]
    },
    {
     "data": {
      "text/plain": [
       "array([[-2.01246118, -2.28078934, -0.13416408,  1.20267559,  0.36742346,\n",
       "         1.83711731],\n",
       "       [ 0.40249224, -0.13416408, -0.40249224,  1.12249722,  0.36742346,\n",
       "         1.10227038]])"
      ]
     },
     "execution_count": 8,
     "metadata": {},
     "output_type": "execute_result"
    }
   ],
   "source": [
    "#definimos los valores máximos y mínimos que puede tomar cada dimensión\n",
    "dim1_min, dim1_max = minimo_y_maximo(X_train[0],X_test[0])\n",
    "dim2_min, dim2_max = minimo_y_maximo(X_train[1],X_test[1])\n",
    "dim3_min, dim3_max = minimo_y_maximo(X_train[2],X_test[2])\n",
    "dim4_min, dim4_max = minimo_y_maximo(X_train[3],X_test[3])\n",
    "dim5_min, dim5_max = minimo_y_maximo(X_train[4],X_test[4])\n",
    "dim6_min, dim6_max = minimo_y_maximo(X_train[5],X_test[5])\n",
    "\n",
    "#Número de neuronas en la capa de salida\n",
    "num_output = y_train.shape[1]\n",
    "#tenemos un conjunto de datos de dos dimensiones, definimos un perceptron\n",
    "# con dos neuronas a la entrada y le asignamos una a cada dimensión\n",
    "dim1 = [dim1_min, dim1_max]\n",
    "dim2 = [dim2_min, dim2_max]\n",
    "dim3 = [dim3_min, dim3_max]\n",
    "dim4 = [dim4_min, dim4_max]\n",
    "dim5 = [dim5_min, dim5_max]\n",
    "dim6 = [dim6_min, dim6_max]\n",
    "\n",
    "perceptron = nl.net.newp([dim1,dim2,dim3,dim4,dim5,dim6], num_output)\n",
    "\n",
    "#entrenamos el perceptron con el conjunto de entrenamiento \n",
    "progreso_error = perceptron.train(X_train, y_train, epochs=2000, show=500, lr=0.3)\n",
    "perceptron.layers[0].np['w'] #con esta instrucción conocemos los pesos para la capa de entrada"
   ]
  },
  {
   "cell_type": "code",
   "execution_count": 10,
   "metadata": {},
   "outputs": [
    {
     "name": "stdout",
     "output_type": "stream",
     "text": [
      "El acierto de clasificación es:  86.03082851637764 %\n",
      "893 (519, 2) 1038\n"
     ]
    },
    {
     "ename": "TypeError",
     "evalue": "ufunc 'bitwise_and' not supported for the input types, and the inputs could not be safely coerced to any supported types according to the casting rule ''safe''",
     "output_type": "error",
     "traceback": [
      "\u001b[1;31m---------------------------------------------------------------------------\u001b[0m",
      "\u001b[1;31mTypeError\u001b[0m                                 Traceback (most recent call last)",
      "\u001b[1;32m<ipython-input-10-6f3d8b4f8cf1>\u001b[0m in \u001b[0;36m<module>\u001b[1;34m()\u001b[0m\n\u001b[0;32m      3\u001b[0m \u001b[0mprint\u001b[0m\u001b[1;33m(\u001b[0m\u001b[1;34m'El acierto de clasificación es: '\u001b[0m\u001b[1;33m,\u001b[0m \u001b[1;33m(\u001b[0m\u001b[0my_test\u001b[0m\u001b[1;33m==\u001b[0m\u001b[0my_pred\u001b[0m\u001b[1;33m)\u001b[0m\u001b[1;33m.\u001b[0m\u001b[0msum\u001b[0m\u001b[1;33m(\u001b[0m\u001b[1;33m)\u001b[0m\u001b[1;33m/\u001b[0m\u001b[1;33m(\u001b[0m\u001b[0mnp\u001b[0m\u001b[1;33m.\u001b[0m\u001b[0mshape\u001b[0m\u001b[1;33m(\u001b[0m\u001b[0my_test\u001b[0m\u001b[1;33m)\u001b[0m\u001b[1;33m[\u001b[0m\u001b[1;36m0\u001b[0m\u001b[1;33m]\u001b[0m\u001b[1;33m*\u001b[0m\u001b[0mnp\u001b[0m\u001b[1;33m.\u001b[0m\u001b[0mshape\u001b[0m\u001b[1;33m(\u001b[0m\u001b[0my_test\u001b[0m\u001b[1;33m)\u001b[0m\u001b[1;33m[\u001b[0m\u001b[1;36m1\u001b[0m\u001b[1;33m]\u001b[0m\u001b[1;33m)\u001b[0m\u001b[1;33m*\u001b[0m\u001b[1;36m100\u001b[0m\u001b[1;33m,\u001b[0m \u001b[1;34m'%'\u001b[0m\u001b[1;33m)\u001b[0m\u001b[1;33m\u001b[0m\u001b[0m\n\u001b[0;32m      4\u001b[0m \u001b[0mprint\u001b[0m\u001b[1;33m(\u001b[0m\u001b[1;33m(\u001b[0m\u001b[0my_test\u001b[0m \u001b[1;33m==\u001b[0m \u001b[0my_pred\u001b[0m\u001b[1;33m)\u001b[0m\u001b[1;33m.\u001b[0m\u001b[0msum\u001b[0m\u001b[1;33m(\u001b[0m\u001b[1;33m)\u001b[0m\u001b[1;33m,\u001b[0m \u001b[0my_pred\u001b[0m\u001b[1;33m.\u001b[0m\u001b[0mshape\u001b[0m\u001b[1;33m,\u001b[0m \u001b[1;33m(\u001b[0m\u001b[0mnp\u001b[0m\u001b[1;33m.\u001b[0m\u001b[0mshape\u001b[0m\u001b[1;33m(\u001b[0m\u001b[0my_test\u001b[0m\u001b[1;33m)\u001b[0m\u001b[1;33m[\u001b[0m\u001b[1;36m0\u001b[0m\u001b[1;33m]\u001b[0m\u001b[1;33m*\u001b[0m\u001b[0mnp\u001b[0m\u001b[1;33m.\u001b[0m\u001b[0mshape\u001b[0m\u001b[1;33m(\u001b[0m\u001b[0my_test\u001b[0m\u001b[1;33m)\u001b[0m\u001b[1;33m[\u001b[0m\u001b[1;36m1\u001b[0m\u001b[1;33m]\u001b[0m\u001b[1;33m)\u001b[0m\u001b[1;33m)\u001b[0m\u001b[1;33m\u001b[0m\u001b[0m\n\u001b[1;32m----> 5\u001b[1;33m \u001b[0mprint\u001b[0m\u001b[1;33m(\u001b[0m\u001b[1;34m'El acierto de clasificación es: '\u001b[0m\u001b[1;33m,\u001b[0m \u001b[1;33m(\u001b[0m\u001b[0my_test\u001b[0m\u001b[1;33m[\u001b[0m\u001b[1;36m0\u001b[0m\u001b[1;33m]\u001b[0m\u001b[1;33m==\u001b[0m\u001b[0my_pred\u001b[0m\u001b[1;33m[\u001b[0m\u001b[1;36m0\u001b[0m\u001b[1;33m]\u001b[0m \u001b[1;33m&\u001b[0m \u001b[0my_test\u001b[0m\u001b[1;33m[\u001b[0m\u001b[1;36m1\u001b[0m\u001b[1;33m]\u001b[0m\u001b[1;33m==\u001b[0m\u001b[0my_pred\u001b[0m\u001b[1;33m[\u001b[0m\u001b[1;36m1\u001b[0m\u001b[1;33m]\u001b[0m\u001b[1;33m)\u001b[0m\u001b[1;33m.\u001b[0m\u001b[0msum\u001b[0m\u001b[1;33m(\u001b[0m\u001b[1;33m)\u001b[0m\u001b[1;33m/\u001b[0m\u001b[0mlen\u001b[0m\u001b[1;33m(\u001b[0m\u001b[0my_test\u001b[0m\u001b[1;33m)\u001b[0m\u001b[1;33m*\u001b[0m\u001b[1;36m100\u001b[0m\u001b[1;33m,\u001b[0m \u001b[1;34m'%'\u001b[0m\u001b[1;33m)\u001b[0m\u001b[1;33m\u001b[0m\u001b[0m\n\u001b[0m",
      "\u001b[1;31mTypeError\u001b[0m: ufunc 'bitwise_and' not supported for the input types, and the inputs could not be safely coerced to any supported types according to the casting rule ''safe''"
     ]
    }
   ],
   "source": [
    "y_pred = perceptron.sim(X_test)\n",
    "# print('El acierto de clasificación es: ', (y_test==y_pred).sum()/len(y_test)*100, '%')\n",
    "print('El acierto de clasificación es: ', (y_test==y_pred).sum()/(np.shape(y_test)[0]*np.shape(y_test)[1])*100, '%')\n",
    "print((y_test == y_pred).sum(), y_pred.shape, (np.shape(y_test)[0]*np.shape(y_test)[1]))\n",
    "print('El acierto de clasificación es: ', (y_test[0]==y_pred[0] & y_test[1]==y_pred[1]).sum()/len(y_test)*100, '%')"
   ]
  }
 ],
 "metadata": {
  "kernelspec": {
   "display_name": "Python 3",
   "language": "python",
   "name": "python3"
  },
  "language_info": {
   "codemirror_mode": {
    "name": "ipython",
    "version": 3
   },
   "file_extension": ".py",
   "mimetype": "text/x-python",
   "name": "python",
   "nbconvert_exporter": "python",
   "pygments_lexer": "ipython3",
   "version": "3.7.1"
  }
 },
 "nbformat": 4,
 "nbformat_minor": 2
}
