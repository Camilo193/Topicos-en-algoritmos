{
 "cells": [
  {
   "cell_type": "markdown",
   "metadata": {},
   "source": [
    "# Aprendizaje supervisado - Regresión Logística\n",
    "***\n",
    "\n",
    "La idea ahora, que ya tenemos nuestra matriz de datos/características pre-procesada, es iniciar nuestro recorrido por los algoritmos de clasificación. Para ello contaremos con una base de datos muy conocida en el ML llamada Iris"
   ]
  },
  {
   "cell_type": "markdown",
   "metadata": {},
   "source": [
    "## Iris\n",
    "***\n",
    "\n",
    "Esta base de datos continuene 50 muestras de 3 diferentes tipos de iris (150 muestras en total). Las características de cada una de las observaciones son: la longitud y el ancho del sépalo,  y la longitud y ancho del pétalo. El objetivo de ML con esta base de datos es predecir la especie de iris de acuerdo a sus medidas.\n",
    "\n",
    "Las especies de irir son: Iris Setosa, Iris Versicolour, Iris Virginica."
   ]
  },
  {
   "cell_type": "markdown",
   "metadata": {},
   "source": [
    "![Iris](http://terpconnect.umd.edu/~petersd/666/html/iris_with_labels.jpg)"
   ]
  },
  {
   "cell_type": "markdown",
   "metadata": {},
   "source": [
    "Para cargar la base de datos desde la librería scikit-learn utilizamos las siguientes instrucciones"
   ]
  },
  {
   "cell_type": "code",
   "execution_count": 3,
   "metadata": {
    "collapsed": true
   },
   "outputs": [],
   "source": [
    "from sklearn import datasets #la librería sklearn contiene las funciones \n",
    "#relacionadas con aprendizaje de máquina. Datasets incorpora bases de datos de \n",
    "#ejemplo\n",
    "import numpy as np #importamos la librería numérica"
   ]
  },
  {
   "cell_type": "code",
   "execution_count": 4,
   "metadata": {},
   "outputs": [
    {
     "name": "stdout",
     "output_type": "stream",
     "text": [
      "[0 1 2]\n",
      "(150,)\n"
     ]
    }
   ],
   "source": [
    "iris = datasets.load_iris() #aquí cargamos los datos de la base de datos \n",
    "#en la variable iris.\n",
    "X = iris.data #guardamos en la variable X la matriz de observaciones\n",
    "y = iris.target #guardamos en la variable y el vector de etiquetas \n",
    "#(identifica cada fila de la matriz X con una clase específica de iris)\n",
    "print(np.unique(y)) #imprimimos los valores del vector de etiquetas y\n",
    "#que no se repitan\n",
    "print(y.shape)"
   ]
  },
  {
   "cell_type": "markdown",
   "metadata": {},
   "source": [
    "## Regresión logística\n",
    "\n",
    "Es un algoritmo simple pero potente para problemas de clasificación lineales y binarios. A pesar del nombre no es un modelo de regresión, es un modelo de clasificación.\n",
    "\n",
    "La regresión logística es un modelo de clasificación muy simple de implementar y que funciona muy bien en clases linealmente separables. A nivel industrial es uno de los modelos más utilizados. \n",
    "\n",
    "Dado que es un clasificador binario, si se desea extender sus prestaciones a clasificación multiclase de debe utilizar la técnica OvR."
   ]
  },
  {
   "cell_type": "markdown",
   "metadata": {},
   "source": [
    "### Definiciones\n",
    "\n",
    "Algunas definiciones importantes para entender este tipo de clasificadores son:\n",
    "\n",
    "1. *Odds ratio o razón de momios:*\n",
    ">La razón de momios  indica la probabilidad a favor de un evento particular, y puede ser escrita como $\\frac{p}{1-p}$, donde $p$ denota la probabilidad del evento positivo. Siendo el evento positivo, el evento que queremos predecir.\n",
    "\n",
    "2. *Función logit:*\n",
    ">La función *logit* se define como el logaritmo de la razón de momios:\n",
    "\n",
    "$$logit(p)=\\log\\frac{p}{1-p}$$\n",
    "\n",
    " La función *logit* toma valores de entrada en el rango de 0 a 1 y los transofrma que números reales, con lo que se puede expresar la siguiente relación lineal entre las características y estos valores.\n",
    "\n",
    "$$logit(P(y=1|\\mathbf{x}))=w_0x_0+w_1x_1+\\ldots+w_px_p= \\sum_{j=0}^{p}w_jx_j=\\mathbf{w}^{\\top}\\mathbf{x}$$"
   ]
  },
  {
   "cell_type": "markdown",
   "metadata": {},
   "source": [
    "### Funcionamiento\n",
    "\n",
    "La probabilidad de que cierta muestra pertenezca a una clase particular, que es el objeto de nuestro interés,  es la forma inversa de la función *logit*. Esta función es llamada *función logística* o *sigmoid*, y se define como:\n",
    "\n",
    "$$\\phi(z)=\\frac{1}{1+e^{-z}}$$\n",
    "\n",
    "En este caso $z$ es la red de entrada, i.e., la combinación lineal de l os pesos y las características, $z=\\mathbf{w}^{\\top}\\mathbf{x}$. \n",
    "\n",
    "La función sigmoide se verá de la siguiente manera:"
   ]
  },
  {
   "cell_type": "code",
   "execution_count": 6,
   "metadata": {
    "collapsed": true
   },
   "outputs": [],
   "source": [
    "import matplotlib.pyplot as plt #importamos la librería para graficar\n",
    "import math #importamos la librería que tiene las funciones matemáticas\n",
    "#avanzadas\n",
    "\n",
    "#ahora definiremos una función que represente el sigmoide\n",
    "def sigmoide(z): #definimos la función con nombre sigmoide. El argumento\n",
    "    #de entrada será la variable z\n",
    "    funcion_sigmoide = 1.0/(1.0+np.exp(-z)) #esta es la definición matemática \n",
    "    #de la función sigmoide\n",
    "    return funcion_sigmoide #retornamos la función evaluada en z"
   ]
  },
  {
   "cell_type": "code",
   "execution_count": 7,
   "metadata": {},
   "outputs": [
    {
     "data": {
      "image/png": "[encoded data removed]",
      "text/plain": [
       "<matplotlib.figure.Figure at 0x1fc7cb827b8>"
      ]
     },
     "metadata": {},
     "output_type": "display_data"
    }
   ],
   "source": [
    "#para probarla debemos generar una  malla de valores en z (una matriz)\n",
    "z = np.mgrid[-10:10:0.1]#-10 y 10 son unos valores para visualizar\n",
    "fi = sigmoide(z) #llamamos la función, la evaluamos en z y la almacenamos\n",
    "#en la variable fi\n",
    "plt.plot(z,fi) #graficamos z vs fi\n",
    "plt.axvline(0,0,color='k') #aquí graficamos una línea vertical que cruza por\n",
    "#(0,0) de color negro (k)\n",
    "plt.axhline(y=0.5, ls='dotted', color='k') #aquí graficamos una línea\n",
    "#horizontal que cruza por y=0.5, es punteada y de color negro\n",
    "plt.ylabel('$\\phi(z)$') #nombre del eje y. Los signos de $ es para que \n",
    "#se vea la variable phi\n",
    "plt.xlabel('z') #nombre del eje x\n",
    "plt.show() #mostramos la figura\n"
   ]
  },
  {
   "cell_type": "markdown",
   "metadata": {},
   "source": [
    "La salida de la función *sigmoide* $\\phi(z) = P(y=1|\\mathbf{x};\\mathbf{w})$ puede ser interpretada como la probabilidad de una observación particual de pertenecer a la clase 1, dadas sus características $\\mathbf{x}$ parametrizadas por los pesos $\\mathbf{w}$.\n",
    "\n",
    "*Ejemplo*\n",
    "\n",
    "Si calculamos $\\phi = 0.8$ para una muestra  determinada en la base de datos Iris, significa que la probabilidad de que sea una Iris Versicolour es del 80%. Similarmente, para una Iris Setosa puede calcularse así: \n",
    "\n",
    "$$P(y=0|\\mathbf{x};\\mathbf{w})=1-P(y=1|\\mathbf{x};\\mathbf{w})=0.2 $$\n",
    "\n",
    "La probabilidad de  salida se puede convertir en una salida binaria a través de un cuantizador (una función de escalón unitario):\n",
    "\n",
    "$$ \\hat{y}=\\left\\{\\begin{array}{cc}\n",
    "1& \\phi(z)\\leq 0.5\\\\\n",
    "0& otros\n",
    "\\end{array}\\right.$$"
   ]
  },
  {
   "cell_type": "markdown",
   "metadata": {},
   "source": [
    "###  Sintonización de parámetros\n",
    "\n",
    "Para la sintonización o el cálculo de los pesos $w$, se debe tener en cuenta la función de costo que se desea minimizar o maximizar. En nuestro caso la función de costo es el error cuadrático medio:\n",
    "\n",
    "$$J(\\mathbf{w})=\\frac{1}{2}\\sum_{i}(\\phi(z_i)-y_i)^2$$\n",
    "\n",
    "Este error corresponde a la diferencia que hay entre la clase estimada y la etiqueta real de cada observación. Ahora bien, la minimización de la función de costos implica la maximización de la función de verosimilitud, definida como:\n",
    "\n",
    "$$L(\\mathbf{w}) = P(\\mathbf{y}|\\mathbf{x};\\mathbf{w})=\\prod_{i=1}^{n}P(y_i|x_i;\\mathbf{w})=\\prod_{i=1}^{n}(\\phi(z_i))^{y_i}(1-\\phi(z_i))^{1-y_i}$$\n",
    "\n",
    "Dado que es más fácil maximizar el logaritmo de la función de verosimilitud, tenemos que:\n",
    "\n",
    "$$l(\\mathbf{w})=\\log(L(\\mathbf{w}))=\\sum_{i=1}^{n}[y_i\\log(\\phi(z_i))+(1-y_i)\\log(1-\\phi(z_i))]$$\n",
    "\n",
    "Ahora bien, podemos usar un algoritmo como gradiente ascendente para maximizar la función de verosimilitud o minimizarla a través de gradiente descendente. Para la minimización tendremos que la función de costos debe ser:\n",
    "\n",
    "$$J(\\mathbf{w})= \\sum_{i=1}^{n}[-y_i\\log(\\phi(z_i))-(1-y_i)\\log(1-\\phi(z_i))]$$\n"
   ]
  },
  {
   "cell_type": "markdown",
   "metadata": {},
   "source": [
    "## Implementación\n",
    "\n",
    "Para implementar nuestro clasificador, utilizaremos el modelo de la librería scikit-learn sobre la base de datos Iris. Primero debemos importar el clasificador y organizar los datos."
   ]
  },
  {
   "cell_type": "code",
   "execution_count": 8,
   "metadata": {
    "collapsed": true
   },
   "outputs": [],
   "source": [
    "from sklearn.linear_model import LogisticRegression #llamamos la librería\n",
    "#linear_model perteneciente a sklearn, donde se encuentran los modelos\n",
    "#lineales como Regresión logística. \n",
    "from sklearn.model_selection import train_test_split # con esta librería\n",
    "#podemos dividir nuestra base de datos en entrenamiento y validación\n",
    "\n",
    "\n",
    "#primero hacemos nuestra partición de la DB.\n",
    "# En este caso el 0.3 corresponde al 30% de las obervaciones de la\n",
    "#base de datos que se tomarán como test o validación, mientras el 70%\n",
    "#restante se tomará como entrenamiento (los datos con los que le enseñamos\n",
    "#a la máquina)\n",
    "X_train, X_test, y_train, y_test =train_test_split(X,y,test_size=0.3, random_state=0)\n",
    "#print (X_train.shape)\n",
    "#print (X_test.shape)\n",
    "\n",
    "#print(length(y_train))\n",
    "#print(length(y_test))"
   ]
  },
  {
   "cell_type": "markdown",
   "metadata": {},
   "source": [
    "**Ejercicio 1**\n",
    "\n",
    "Define y aplica una función para normalizar (preprocesar) el conjunto de entrenamiento y el conjunto de validación utilizando la media y la desviación estándar, de tal forma que :\n",
    "\n",
    "media_X_train = X_train.mean(axis = 0)\n",
    "\n",
    "desviacion_X_train = X_train.std(axis = 0)\n",
    "\n",
    "X_train_normalizado = (X_train - media_X_train)/desviacion_X_train\n",
    "\n",
    "X_test_normalizado  = (X_test -  media_X_train)/desviacion_X_train\n"
   ]
  },
  {
   "cell_type": "code",
   "execution_count": 9,
   "metadata": {},
   "outputs": [
    {
     "name": "stdout",
     "output_type": "stream",
     "text": [
      "<class 'numpy.ndarray'>\n"
     ]
    }
   ],
   "source": [
    "#espacio para solucionar el ejercicio 1\n",
    "def Remocion(X): #definimos la función\n",
    "    X = X - X.mean(axis=0) # a los datos les restamos el valor de la media\n",
    "    X = X/X.std(axis=0) #al resultado lo dividimos por la desviación estándar\n",
    "    return X #retornamos los datos normalizamos\n",
    "\n",
    "def remocion_train_test(X_train,X_test):\n",
    "    media_train = X_train.mean(axis = 0) # calculamos la media del conjunto de entrenamiento\n",
    "    desviacion_train = X_train.std(axis = 0) # calculamos la desviacion estándar del conjunto de entrenamiento\n",
    "    \n",
    "    X_train_normalizado = (X_train - media_train)/desviacion_train # preprocesamos la matriz de entrenamiento\n",
    "    X_test_normalizado = (X_test - media_train)/desviacion_train # preprocesamos la matriz de validacion o test\n",
    "    \n",
    "    return X_train_normalizado, X_test_normalizado\n",
    "\n",
    "X_train_normalizado, X_test_normalizado = remocion_train_test(X_train, X_test)\n",
    "print(type(X_train_normalizado))\n"
   ]
  },
  {
   "cell_type": "markdown",
   "metadata": {},
   "source": [
    "Ahora entrenamos el clasificador:"
   ]
  },
  {
   "cell_type": "code",
   "execution_count": 17,
   "metadata": {},
   "outputs": [
    {
     "data": {
      "text/plain": [
       "LogisticRegression(C=1000.0, class_weight=None, dual=False,\n",
       "          fit_intercept=True, intercept_scaling=1, max_iter=100,\n",
       "          multi_class='ovr', n_jobs=1, penalty='l2', random_state=0,\n",
       "          solver='liblinear', tol=0.0001, verbose=0, warm_start=False)"
      ]
     },
     "execution_count": 17,
     "metadata": {},
     "output_type": "execute_result"
    }
   ],
   "source": [
    "#instanciamos el clasificador, valores pequeños de C especifican\n",
    "# mayor regularización\n",
    "clasificador = LogisticRegression(C=1000.0, random_state = 0) \n",
    "# entrenamos el clasificador con los datos X_train_normalizado\n",
    "clasificador.fit(X_train_normalizado,y_train)\n"
   ]
  },
  {
   "cell_type": "code",
   "execution_count": 18,
   "metadata": {},
   "outputs": [
    {
     "name": "stdout",
     "output_type": "stream",
     "text": [
      "Las muestras mal clasificadas fueron 1\n"
     ]
    }
   ],
   "source": [
    "#Realizamos el test o la validación con los datos que el clasificador no \n",
    "#conoce, que corresponden al X_test_normalizado\n",
    "y_pred = clasificador.predict(X_test_normalizado)\n",
    "# comparamos las etiquetas de la base de datos con las que encontró\n",
    "# el clasificador para así fijar el error de clasificación\n",
    "print('Las muestras mal clasificadas fueron %d' % (y_test != y_pred).sum())"
   ]
  },
  {
   "cell_type": "markdown",
   "metadata": {},
   "source": [
    "**Ejercicio 2**\n",
    "\n",
    "Repite el procedimiento anterior pero con la normalización del escalamiento\n",
    "\n",
    "$$\\frac{\\mathbf{X}-min(\\mathbf{X})}{max(\\mathbf{X})-min(\\mathbf{X})}$$"
   ]
  },
  {
   "cell_type": "code",
   "execution_count": 19,
   "metadata": {},
   "outputs": [
    {
     "name": "stdout",
     "output_type": "stream",
     "text": [
      "Las muestras mal clasificadas fueron 1\n"
     ]
    }
   ],
   "source": [
    "# espacio para solucionar el ejercicio 2\n",
    "def Escalamiento(X): #definimos la función de escalamiento\n",
    "    minimo = X.min(axis=0) #calculamos el mínimo valor de cada columna\n",
    "    maximo = X.max(axis=0) #calculamos el máximo valor de cada columna\n",
    "    X = (X-minimo)/(maximo-minimo) #aplicamos la fórmula del escalamiento\n",
    "    return(X) #retornamos el valor\n",
    "\n",
    "def escalamiento_train_test(X_train,X_test):\n",
    "    minimo_train = X_train.min(axis=0)\n",
    "    maximo_train = X_train.max(axis=0)\n",
    "    \n",
    "    X_train_preprocesado = (X_train - minimo_train)/(maximo_train - minimo_train)\n",
    "    X_test_preprocesado = (X_test - minimo_train)/(maximo_train - minimo_train)\n",
    "    \n",
    "    return X_train_preprocesado, X_test_preprocesado\n",
    "   \n",
    "X_train_preprocesado, X_test_preprocesado = escalamiento_train_test(X_train,X_test)\n",
    "\n",
    "#instanciamos el clasificador, valores pequeños de C especifican\n",
    "# mayor regularización\n",
    "clasificador = LogisticRegression(C=1000.0, random_state = 0) \n",
    "# entrenamos el clasificador con los datos X_train_normalizado\n",
    "clasificador.fit(X_train_preprocesado,y_train)\n",
    "\n",
    "#Realizamos el test o la validación con los datos que el clasificador no \n",
    "#conoce, que corresponden al X_test_normalizado\n",
    "y_pred = clasificador.predict(X_test_preprocesado)\n",
    "# comparamos las etiquetas de la base de datos con las que encontró\n",
    "# el clasificador para así fijar el error de clasificación\n",
    "print('Las muestras mal clasificadas fueron %d' % (y_test != y_pred).sum())\n",
    "print(len(y_test))"
   ]
  },
  {
   "cell_type": "markdown",
   "metadata": {},
   "source": [
    "**Ejercicio 3**\n",
    "\n",
    "Realiza un código para la comparación de los resultados de los dos preprocesamientos pero con respecto al porcentaje de acierto de clasificación."
   ]
  },
  {
   "cell_type": "code",
   "execution_count": 22,
   "metadata": {},
   "outputs": [
    {
     "name": "stdout",
     "output_type": "stream",
     "text": [
      "Las muestras bien clasificadas fueron 44\n",
      "45\n",
      "97.7777777778\n"
     ]
    }
   ],
   "source": [
    "#espacio para solucionar el ejercicio 3\n",
    "print('Las muestras bien clasificadas fueron %d' % (y_test == y_pred).sum())\n",
    "print(len(y_test))\n",
    "print((100*(y_test == y_pred).sum())/len(y_test))"
   ]
  }
 ],
 "metadata": {
  "kernelspec": {
   "display_name": "Python 3",
   "language": "python",
   "name": "python3"
  },
  "language_info": {
   "codemirror_mode": {
    "name": "ipython",
    "version": 3
   },
   "file_extension": ".py",
   "mimetype": "text/x-python",
   "name": "python",
   "nbconvert_exporter": "python",
   "pygments_lexer": "ipython3",
   "version": "3.7.1"
  }
 },
 "nbformat": 4,
 "nbformat_minor": 2
}
