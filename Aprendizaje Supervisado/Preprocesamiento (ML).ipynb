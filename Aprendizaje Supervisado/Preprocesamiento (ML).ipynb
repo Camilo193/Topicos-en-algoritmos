{
 "cells": [
  {
   "cell_type": "markdown",
   "metadata": {},
   "source": [
    "## Resumen de shortcuts de teclado para Jupyter\n",
    "\n",
    "- Ctr+Enter = Ejecuta una celda\n",
    "- Esc+b = Genera una nueva celda hacia abajo\n",
    "- Esc+a = Genera una nueva celda hacia arriba\n",
    "- Esc+d d = Elimina la celda\n",
    "- Esc+x = Corta la celda\n",
    "- Esc+m = Convierte la celda en una celda de texto\n",
    "- Esc+y = Convierte la celda en una celda de código\n",
    "- Ctr+} = Comenta un bloque o elimina el comentario de un bloque"
   ]
  },
  {
   "cell_type": "markdown",
   "metadata": {},
   "source": [
    "# Aprendizaje de máquina\n",
    "***\n",
    "El aprendizaje de máquina se divide en dos grandes áreas:\n",
    "\n",
    "1.**Aprendizaje supervisado**\n",
    ">En el aprendizaje supervisado se entrena un clasificador para identificar la etiqueta de un elemento nuevo. Las entradas para este modelo son: $\\mathbf{X}$ la matriz de datos de dimensión $n\\times p$, donde $n$ es el número de observaciones y $p$ es el número de características, y el conjunto de etiquetas $C=[c_1,c_2,\\ldots,c_k]$, donde $k$ es el número de clases.\n",
    "\n",
    "2.**Aprendizaje no supervisado**\n",
    ">En el aprendizaje no supervisado, se intenta agrupar el conjunto de datos, de tal forma que la separación entre los grupos sea la más conveniente. En este caso la entrada va a estar dada solo por la matriz de datos $\\mathbf{X}$, definida por:\n",
    "\n",
    "$$\\mathbf{X}=\\left[\\begin{array}{cccc}\n",
    "x_{11} & x_{12} & \\ldots & x_{1p}\\\\\n",
    "x_{21} & x_{22} & \\ldots & x_{2p}\\\\\n",
    "\\vdots& &\\ldots &\\vdots\\\\\n",
    "x_{n1} & x_{n2} & \\ldots & x_{np}\n",
    "\\end{array}\\right]$$\n",
    "\n",
    "De forma general, un modelo de ML tiene las siguientes etapas:\n",
    "\n",
    "1. *Adquisición de datos*\n",
    "2. *Acondicionamiento de los datos, también llamado preprocesamiento (filtrado y remoción de artefactos).*\n",
    "3. *Caracterización*\n",
    "4. ***Preprocesamiento de las características***\n",
    "5. *Reducción de dimensión*\n",
    "6. ***Aplicación del modelo ML***\n",
    "7. ***Análisis del resultado***"
   ]
  },
  {
   "cell_type": "markdown",
   "metadata": {},
   "source": [
    "## Aprendizaje supervisado\n",
    "Con el fin de aplicar un modelo supervisado para la clasificación de datos, en necesario iniciar con la carga o adquisición de los datos, en nuestro caso será una matriz $\\mathbf{X}$ artificial. Recuerda que el número de filas corresponde al número de observaciones u objetos, mientras el número de columnas corresponde al número de características o descriptores de los objetos:\n",
    "\n",
    "$$\\mathbf{X}=\\left[\\begin{array}{ccc}\n",
    "5.1 &-2.9 &3.3\\\\\n",
    "-1.2 & 7.8 &-6.1\\\\\n",
    "3.9 & 0.4 & 2.1\\\\\n",
    "7.3 &-9.9 & -4.5\n",
    "\\end{array}\n",
    "\\right]$$\n",
    "\n",
    "En este caso tendremos 4 observaciones y 3 características"
   ]
  },
  {
   "cell_type": "code",
   "execution_count": 26,
   "metadata": {},
   "outputs": [
    {
     "name": "stdout",
     "output_type": "stream",
     "text": [
      "La matriz de datos es:\n",
      " [[ 5.1 -2.9  3.3]\n",
      " [-1.2  7.8 -6.1]\n",
      " [ 3.9  0.4  2.1]\n",
      " [ 7.3 -9.9 -4.5]]\n"
     ]
    }
   ],
   "source": [
    "import numpy as np  #primero importamos la librería numérica y le ponemos el alias np\n",
    "\n",
    "#posteriormente generamos un arreglo que corresponde a la matriz de datos\n",
    "X = np.array([[5.1,-2.9,3.3],[-1.2,7.8,-6.1],[3.9,0.4,2.1],[7.3,-9.9,-4.5]])\n",
    "print('La matriz de datos es:\\n',X) #imprimos la matriz X generada en la línea anterior\n"
   ]
  },
  {
   "cell_type": "markdown",
   "metadata": {},
   "source": [
    "## Preprocesamiento de la matriz de datos\n",
    "***\n",
    "La idea de esta etapa es dar uniformidad a las características con el fin de no sesgar el clasificador. Hay diferentes tipos de preprocesamiento entre los que se encuentran:\n",
    "\n",
    "1. Binarización\n",
    "2. Remoción de la media\n",
    "3. Escalamiento\n",
    "4. Normalización"
   ]
  },
  {
   "cell_type": "markdown",
   "metadata": {},
   "source": [
    "### Binarización:\n",
    "La binarización consiste en convertir las características en variables Booleanas (True,False) o (1,0). Se debe fijar un umbral $\\gamma$ para la binarización de los datos, de tal forma que si $dato > \\gamma \\rightarrow dato=1$ en caso contrario, si $dato < \\gamma \\rightarrow dato=0$"
   ]
  },
  {
   "cell_type": "code",
   "execution_count": 7,
   "metadata": {
    "collapsed": true
   },
   "outputs": [],
   "source": [
    "#Hacemos la función de binarización\n",
    "def Binarizacion(X,gamma): #definimos la función \"Binarización\" y las entradas \"X\" y \"gamma\"\n",
    "    filas = np.shape(X)[0] #shape define las dimensiones de la matriz. El índice [0] son las filas, mientras el [1] las columnas\n",
    "    columnas = np.shape(X)[1]\n",
    "    for i in range(filas): #recorremos las filas\n",
    "        for j in range(columnas): #recorremos las columnas\n",
    "            if X[i][j] >= gamma: #hacemos la asignación\n",
    "                X[i][j] = 1\n",
    "            else:\n",
    "                X[i][j] = 0\n",
    "    return X #devolvemos la matriz binarizada"
   ]
  },
  {
   "cell_type": "code",
   "execution_count": 8,
   "metadata": {},
   "outputs": [
    {
     "name": "stdout",
     "output_type": "stream",
     "text": [
      "Ingrese el valor de gamma: 3.0\n",
      "[[ 1.  0.  1.]\n",
      " [ 0.  1.  0.]\n",
      " [ 1.  0.  0.]\n",
      " [ 1.  0.  0.]]\n"
     ]
    }
   ],
   "source": [
    "#Ahora corremos la función para binarizar la matriz. Primero preguntamos el valor de gamma\n",
    "gamma = float(input('Ingrese el valor de gamma: ')) #nos aseguramos que sea flotante\n",
    "datos_binarizados = Binarizacion(X,gamma) #llamamos la función y el resultado lo almacenamos en la variable \"datos_binarizados\"\n",
    "print(datos_binarizados) #imprimimos el resultado\n"
   ]
  },
  {
   "cell_type": "markdown",
   "metadata": {},
   "source": [
    "### Remoción de la media\n",
    "La idea con este preprocesamiento es eliminar la tendencia en los datos. \n",
    "La operación que se realiza sobre la matriz de datos es la siguiente:\n",
    "\n",
    "$$\\frac{\\mathbf{X}-\\mathbf{\\hat{X}}}{\\sigma_{\\mathbf{X}}},$$\n",
    "\n",
    "donde $\\mathbf{\\hat{X}}$ es la media y $\\sigma_{\\mathbf{X}}$ es la desviación."
   ]
  },
  {
   "cell_type": "code",
   "execution_count": 9,
   "metadata": {},
   "outputs": [
    {
     "name": "stdout",
     "output_type": "stream",
     "text": [
      "La media de las características es:\n",
      " [ 0.75  0.25  0.25]\n",
      "La desviación de las características es:\n",
      " [ 0.4330127  0.4330127  0.4330127]\n"
     ]
    }
   ],
   "source": [
    "# Revisamos la media y la desviación actual de los datos\n",
    "media = X.mean(axis=0)  #el \"axis=0\" indica que calculamos la media por columnas, el \"axis=1\" lo haría por las filas\n",
    "print('La media de las características es:\\n',media) #imprimimos el valor de la media\n",
    "desviacion = X.std(axis=0) #hacemos lo mismo para la desviación estándar\n",
    "print('La desviación de las características es:\\n',desviacion) #la imprimimos\n"
   ]
  },
  {
   "cell_type": "code",
   "execution_count": 10,
   "metadata": {
    "collapsed": true
   },
   "outputs": [],
   "source": [
    "#Hacemos la función para la remoción de la media, nuestra idea es que la desviación estándar sea 1 y la media sea 0\n",
    "def Remocion(X): #definimos la función\n",
    "    X = X - X.mean(axis=0) # a los datos les restamos el valor de la media\n",
    "    X = X/X.std(axis=0) #al resultado lo dividimos por la desviación estándar\n",
    "    return X #retornamos los datos normalizamos\n",
    "    "
   ]
  },
  {
   "cell_type": "code",
   "execution_count": 11,
   "metadata": {},
   "outputs": [
    {
     "name": "stdout",
     "output_type": "stream",
     "text": [
      "La media de las características es:\n",
      " [  5.55111512e-17  -5.55111512e-17  -5.55111512e-17]\n",
      "La desviación de las características es:\n",
      " [ 1.  1.  1.]\n"
     ]
    }
   ],
   "source": [
    "#Aplicamos el preprocesamiento\n",
    "datos_centralizados = Remocion(X) #llamamos la función y almacenamos el resultado\n",
    "media = datos_centralizados.mean(axis=0) #Calculamos la media de la matriz de datos normalizada para comprobar que su valor sea 0\n",
    "print('La media de las características es:\\n',media) #la imprimimos\n",
    "desviacion = datos_centralizados.std(axis=0) #Calculamos la desviación de la matriz de datos normalizada para comprobar que su valor sea 1\n",
    "print('La desviación de las características es:\\n',desviacion) #la imprimimos\n"
   ]
  },
  {
   "cell_type": "markdown",
   "metadata": {},
   "source": [
    "### Escalamiento\n",
    "La idea del escalamiento es medir con la mismas *regla* a todas las características, para ello se realiza la siguiente operación:\n",
    "\n",
    "$$\\frac{\\mathbf{X}-min(\\mathbf{X})}{max(\\mathbf{X})-min(\\mathbf{X})}$$"
   ]
  },
  {
   "cell_type": "code",
   "execution_count": 12,
   "metadata": {
    "collapsed": true
   },
   "outputs": [],
   "source": [
    "def Escalamiento(X): #definimos la función de escalamiento\n",
    "    minimo = X.min(axis=0) #calculamos el mínimo valor de cada columna\n",
    "    maximo = X.max(axis=0) #calculamos el máximo valor de cada columna\n",
    "    X = (X-minimo)/(maximo-minimo) #aplicamos la fórmula del escalamiento\n",
    "    return(X) #retornamos el valor"
   ]
  },
  {
   "cell_type": "markdown",
   "metadata": {},
   "source": [
    "**Ejercicio 1**\n",
    "\n",
    "Aplica el escalamiento a la matriz $\\mathbf{X}$ de entrada. Muestra el mínimo y el máximo antes  y después del preprocesamiento. ¿En qué se diferencian?"
   ]
  },
  {
   "cell_type": "code",
   "execution_count": 17,
   "metadata": {},
   "outputs": [
    {
     "name": "stdout",
     "output_type": "stream",
     "text": [
      "El minimo antes de escalamiento es: \n",
      " [-1.2 -9.9 -6.1]\n",
      "El minimo antes de escalamiento es: \n",
      " [ 7.3  7.8  3.3]\n",
      "El minimo después de escalamiento es: \n",
      " [ 0.  0.  0.]\n",
      "El minimo después de escalamiento es: \n",
      " [ 1.  1.  1.]\n"
     ]
    }
   ],
   "source": [
    "#Espacio para solucionar el ejercicio 1\n",
    "minimo = X.min(axis=0)\n",
    "maximo = X.max(axis=0)\n",
    "print('El minimo antes de escalamiento es: \\n', minimo)\n",
    "print('El minimo antes de escalamiento es: \\n', maximo)\n",
    "xEscalada = Escalamiento(X)\n",
    "minimo = xEscalada.min(axis=0)\n",
    "maximo = xEscalada.max(axis=0)\n",
    "print('El minimo después de escalamiento es: \\n', minimo)\n",
    "print('El minimo después de escalamiento es: \\n', maximo)"
   ]
  },
  {
   "cell_type": "markdown",
   "metadata": {},
   "source": [
    "### Normalización\n",
    "\n",
    "Con la normalización podemos alcanzar dos objetivos diferentes, aunque ambos intentan *medir* las características de cada observación con la misma *regla*\n",
    "\n",
    "1. Normalización $L_1$:\n",
    "> Con la normalización $L_1$ es posible eliminar la influencia de la valores atípicos (*outliers*). La idea de esta normalización es que la suma del valor absoluto de cada observación sea unitaria. i.e:\n",
    "\n",
    "> $$ \\sum_{j=1}^{p}||x_{ij}||=1, \\quad\\quad \\forall i=1,\\ldots,n$$\n",
    "\n",
    "2. Normalización $L_2$:\n",
    "> Con la normalización $L_2$ es posible hacer más notable la influencia de los valores atípicos (*outliers*). La idea de esta normalización es que la suma del valor absoluto al cuadrado sea unitaria. i.e.:\n",
    "\n",
    "> $$ \\sqrt{\\sum_{j=1}^{p}||x_{ij}||^2}=1, \\quad\\quad \\forall i=1,\\ldots,n$$\n",
    "\n",
    "Para conseguir la normalización, debemos dividir cada elemento de la fila por la norma correspondiente."
   ]
  },
  {
   "cell_type": "markdown",
   "metadata": {},
   "source": [
    "Las funciones para la normalización se muestran a continuación:"
   ]
  },
  {
   "cell_type": "code",
   "execution_count": 20,
   "metadata": {
    "collapsed": true
   },
   "outputs": [],
   "source": [
    "def norma1(X): #definimos la función para la norma L1\n",
    "    norma = np.linalg.norm(X,ord=1,axis=1) #calculamos el valor de la norma con la función np.linalg.norm. El orden \n",
    "                                            #indica qué tipo de norma es y \"axis=1\" nos dice que la calculamos sobre las filas\n",
    "    norma = np.repeat(norma,3) #como tenemos 4 normas en total (1 por cada fila), repetimos cada una tres veces\n",
    "    norma = np.resize(norma,(4,3)) #reorganizamos las normas para que nos queden del mismo tamaño de X\n",
    "    X = X/norma #dividimos punto a punto los datos entre la norma\n",
    "    return X #retornamos la matriz normalizada"
   ]
  },
  {
   "cell_type": "markdown",
   "metadata": {},
   "source": [
    "**Ejercicio 2**\n",
    "\n",
    "Aplica la normalización por norma $L_1$ a la matriz $\\mathbf{X}$ de entrada."
   ]
  },
  {
   "cell_type": "code",
   "execution_count": 25,
   "metadata": {},
   "outputs": [
    {
     "name": "stdout",
     "output_type": "stream",
     "text": [
      "La matriz sin normalizar L1 es: \n",
      " [[ 5.1 -2.9  3.3]\n",
      " [-1.2  7.8 -6.1]\n",
      " [ 3.9  0.4  2.1]\n",
      " [ 7.3 -9.9 -4.5]] \n",
      "\n",
      "El minimo antes de escalamiento es: \n",
      " [-1.2 -9.9 -6.1] \n",
      "\n",
      "El minimo antes de escalamiento es: \n",
      " [ 7.3  7.8  3.3] \n",
      "\n",
      "La matriz luego de normalizar L1 es: \n",
      " [[ 0.45132743 -0.25663717  0.2920354 ]\n",
      " [-0.0794702   0.51655629 -0.40397351]\n",
      " [ 0.609375    0.0625      0.328125  ]\n",
      " [ 0.33640553 -0.4562212  -0.20737327]] \n",
      "\n",
      "El minimo antes de escalamiento es: \n",
      " [-0.0794702  -0.4562212  -0.40397351] \n",
      "\n",
      "El minimo antes de escalamiento es: \n",
      " [ 0.609375    0.51655629  0.328125  ] \n",
      "\n"
     ]
    }
   ],
   "source": [
    "#espacio para solucionar el ejercicio 2\n",
    "print('La matriz sin normalizar L1 es: \\n', X, '\\n')\n",
    "minimo = X.min(axis=0)\n",
    "maximo = X.max(axis=0)\n",
    "print('El minimo antes de escalamiento es: \\n', minimo, '\\n')\n",
    "print('El minimo antes de escalamiento es: \\n', maximo, '\\n')\n",
    "xNormalizada = norma1(X)\n",
    "print('La matriz luego de normalizar L1 es: \\n', xNormalizada, '\\n')\n",
    "minimo = xNormalizada.min(axis=0)\n",
    "maximo = xNormalizada.max(axis=0)\n",
    "print('El minimo antes de escalamiento es: \\n', minimo, '\\n')\n",
    "print('El minimo antes de escalamiento es: \\n', maximo, '\\n')\n"
   ]
  },
  {
   "cell_type": "markdown",
   "metadata": {},
   "source": [
    "**Ejercicio 3**\n",
    "\n",
    "Define la función y aplica la normalización por norma $L_2$ a la matriz $\\mathbf{X}$ de entrada."
   ]
  },
  {
   "cell_type": "code",
   "execution_count": 27,
   "metadata": {},
   "outputs": [
    {
     "name": "stdout",
     "output_type": "stream",
     "text": [
      "La matriz sin normalizar L2 es: \n",
      " [[ 5.1 -2.9  3.3]\n",
      " [-1.2  7.8 -6.1]\n",
      " [ 3.9  0.4  2.1]\n",
      " [ 7.3 -9.9 -4.5]] \n",
      "\n",
      "La matriz luego de normalizar L1 es: \n",
      " [[ 0.45132743 -0.25663717  0.2920354 ]\n",
      " [-0.0794702   0.51655629 -0.40397351]\n",
      " [ 0.609375    0.0625      0.328125  ]\n",
      " [ 0.33640553 -0.4562212  -0.20737327]] \n",
      "\n",
      "La matriz luego de normalizar L2 es: \n",
      " [[ 0.75765788 -0.43082507  0.49024922]\n",
      " [-0.12030718  0.78199664 -0.61156148]\n",
      " [ 0.87690281  0.08993875  0.47217844]\n",
      " [ 0.55734935 -0.75585734 -0.34357152]] \n",
      "\n"
     ]
    }
   ],
   "source": [
    "#espacio para solucionar el ejercicio 3\n",
    "def norma2(X): #definimos la función para la norma L1\n",
    "    norma = np.linalg.norm(X,ord=2,axis=1) #calculamos el valor de la norma con la función np.linalg.norm. El orden \n",
    "                                            #indica qué tipo de norma es y \"axis=1\" nos dice que la calculamos sobre las filas\n",
    "    norma = np.repeat(norma,3) #como tenemos 4 normas en total (1 por cada fila), repetimos cada una tres veces\n",
    "    norma = np.resize(norma,(4,3)) #reorganizamos las normas para que nos queden del mismo tamaño de X\n",
    "    X = X/norma #dividimos punto a punto los datos entre la norma\n",
    "    return X #retornamos la matriz normalizada\n",
    "print('La matriz sin normalizar L2 es: \\n', X, '\\n')\n",
    "xNormalizada = norma1(X)\n",
    "print('La matriz luego de normalizar L1 es: \\n', xNormalizada, '\\n')\n",
    "xNormalizada = norma2(X)\n",
    "print('La matriz luego de normalizar L2 es: \\n', xNormalizada, '\\n')"
   ]
  },
  {
   "cell_type": "markdown",
   "metadata": {},
   "source": [
    "### Codificación del etiquetado\n",
    "\n",
    "La codificación del etiquetado se utiliza para hacer el cambio de las etiquetas cualitativas (letras), a unas etiquetas cuantitativas (números)."
   ]
  },
  {
   "cell_type": "markdown",
   "metadata": {},
   "source": [
    "**Ejercicio 4**\n",
    "\n",
    "Desarrolla y aplica un codificador de etiquetas, de tal forma que para una entrada $\\verb|['red', 'green', 'red, 'yellow', 'green'] |$ se obtenga como salida $\\verb|[1,2,1,3,2]|$"
   ]
  },
  {
   "cell_type": "code",
   "execution_count": 3,
   "metadata": {
    "collapsed": true
   },
   "outputs": [],
   "source": [
    "#espacio para solucionar el ejercicio 4\n",
    "import numpy as np\n",
    "entrada = np.array([['red','green','red','yellow','green']])\n",
    "def etiquetado(entrada):\n",
    "    filas = np.shape(entrada)[0]\n",
    "    columnas = np.shape(entrada)[1]\n",
    "    for i in range(filas):\n",
    "        print('aqui 1')\n",
    "        for j in range(columnas):\n",
    "            print('aqui 2')\n",
    "            if entrada[i][j] == 'red':\n",
    "                entrada[i][j] = 1\n",
    "                print('aqui 3')\n",
    "            elif entrada[i][j] == 'green':\n",
    "                entrada[i][j] = 2\n",
    "                print('aqui 4')\n",
    "            elif entrada[i][j] == 'yellow':\n",
    "                entrada[i][j] = 3\n",
    "                print('aqui 5')\n",
    "#             else:\n",
    "#                 print('aqui 6')\n",
    "#                 return (entrada)\n",
    "    return (entrada)"
   ]
  },
  {
   "cell_type": "code",
   "execution_count": 4,
   "metadata": {},
   "outputs": [
    {
     "name": "stdout",
     "output_type": "stream",
     "text": [
      "aqui 1\n",
      "aqui 2\n",
      "aqui 3\n",
      "aqui 2\n",
      "aqui 4\n",
      "aqui 2\n",
      "aqui 3\n",
      "aqui 2\n",
      "aqui 5\n",
      "aqui 2\n",
      "aqui 4\n",
      "holi \n",
      " [['1' '2' '1' '3' '2']]\n"
     ]
    }
   ],
   "source": [
    "salida = etiquetado(entrada)\n",
    "print (\"holi \\n\", salida)"
   ]
  }
 ],
 "metadata": {
  "kernelspec": {
   "display_name": "Python 3",
   "language": "python",
   "name": "python3"
  },
  "language_info": {
   "codemirror_mode": {
    "name": "ipython",
    "version": 3
   },
   "file_extension": ".py",
   "mimetype": "text/x-python",
   "name": "python",
   "nbconvert_exporter": "python",
   "pygments_lexer": "ipython3",
   "version": "3.7.1"
  }
 },
 "nbformat": 4,
 "nbformat_minor": 2
}
