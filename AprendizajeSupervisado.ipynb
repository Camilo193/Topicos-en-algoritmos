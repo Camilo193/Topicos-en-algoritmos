{
 "cells": [
  {
   "cell_type": "markdown",
   "metadata": {},
   "source": [
    "# Quiz 1 - 21 de agosto de 2019\n",
    "\n",
    "## Nombre:"
   ]
  },
  {
   "cell_type": "markdown",
   "metadata": {},
   "source": [
    "Se tiene una base de datos de evaluación de automóviles, en donde cada automovil se ha caracterizado mediante 6 atributos:  \n",
    "\n",
    "1. La precio de compra, llamado *buying* , que puede tener los siguientes valores: vhigh, high, med, low. \n",
    "2. El costo del mantenimiento, llamado *maint* que puede tener los siguientes valores: vhigh, high, med, low. \n",
    "3. El número de puertas, llamado *doors*, que puede tener los siguientes valores: 2, 3, 4, 5more. \n",
    "4. La capacidad experesada en el número de personas, llamado *persons*, que puede tener los siguientes valores: 2, 4, more. \n",
    "5. El tamaño del portamaletas,llamado *lug_boot*, que puede tener los siguientes valores: small, med, big. \n",
    "6. La seguridad estimada del auto, llamado *safety*,que puede tener los siguientes valores: low, med, high. \n",
    "\n",
    "De acuerdo con estas seis características, el auto puede ser clasificado en inaceptable (*unacc*), aceptable (*acc*), bueno (*good*) o muy bueno (*vgood*).\n",
    "\n",
    "Le piden construir un sistema experto que clasifique automáticamente los autores utilizando la base de datos mencionada para su entrenamiento y validación, y el modelo de regresión logística como algoritmo de aprendizaje de máquina. Para la construcción del sistema tenga en cuenta las siguientes condiciones:\n",
    "\n",
    "1. La base de datos y su descripción se encuentra el la página https://archive.ics.uci.edu/ml/datasets/Car+Evaluation. Debe descargar los datos y separarlos de las etiquetas de forma correcta. \n",
    "2. El algoritmo de regresión logística no acepta variables categóricas como entradas o salidas (letras), por tanto debe convertir las variables que tiene a valores numéricos (variables numéricas). La forma en se haga la conversión es libre, pero debe ser especificada en los comentarios del código. Recuerde que debe hacer esto tanto para los datos como para las etiquetas.\n",
    "3. Se debe tener una etapa de preprocesamiento.\n",
    "4. Se debe mostrar el acierto de clasificación.\n",
    "5. Si requiere alguna información que no está especificada en las condiciones, la debe suponer y justificar correctamente."
   ]
  },
  {
   "cell_type": "code",
   "execution_count": null,
   "metadata": {
    "collapsed": true
   },
   "outputs": [],
   "source": [
    "#espacio para solucionar el quiz 1"
   ]
  }
 ],
 "metadata": {
  "kernelspec": {
   "display_name": "Python 3",
   "language": "python",
   "name": "python3"
  },
  "language_info": {
   "codemirror_mode": {
    "name": "ipython",
    "version": 3
   },
   "file_extension": ".py",
   "mimetype": "text/x-python",
   "name": "python",
   "nbconvert_exporter": "python",
   "pygments_lexer": "ipython3",
   "version": "3.6.3"
  }
 },
 "nbformat": 4,
 "nbformat_minor": 2
}
